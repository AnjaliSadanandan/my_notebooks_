{
  "cells": [
    {
      "cell_type": "markdown",
      "metadata": {
        "id": "cUkwFT6bxiZC"
      },
      "source": [
        "## Topics covered:\n",
        "### 1. Decision trees\n",
        "### 2. Random forests\n",
        "### 3. Boosting"
      ]
    },
    {
      "cell_type": "markdown",
      "metadata": {
        "id": "SAaGYQShxiZG"
      },
      "source": [
        "<hr>\n",
        "\n",
        "# Part 1: Decision trees\n",
        "\n",
        "<hr>"
      ]
    },
    {
      "cell_type": "markdown",
      "metadata": {
        "id": "qy-QK7OExiZH"
      },
      "source": [
        "## Dataset: <br>\n",
        "![PalmerPenguins](https://www.dropbox.com/s/du4pwhjgtwk33uw/palmerpenguins.png?dl=1)\n",
        "\n",
        "Artwork by @allison_horst"
      ]
    },
    {
      "cell_type": "markdown",
      "metadata": {
        "id": "NUrofjXHxiZI"
      },
      "source": [
        "## About the data:\n",
        "Data were collected and made available by Dr. Kristen Gorman and the Palmer Station, Antarctica LTER, a member of the Long Term Ecological Research Network. Datasets contain data for 344 penguins. There are 3 different species of penguins in this dataset, collected from 3 islands in the Palmer Archipelago, Antarctica."
      ]
    },
    {
      "cell_type": "markdown",
      "metadata": {
        "id": "RdARlpkTxiZI"
      },
      "source": [
        "![PalmerPenguins](https://www.dropbox.com/s/pwf8ohvjqcr3pco/penguins_images.png?dl=1)"
      ]
    },
    {
      "cell_type": "markdown",
      "metadata": {
        "id": "JSQdD6gDxiZI"
      },
      "source": [
        "# Dataset Description:\n",
        "\n",
        "1. species: penguin species (Chinstrap, Adélie, or Gentoo)\n",
        "2. culmen_length_mm: culmen length (mm)\n",
        "3. culmen_depth_mm: culmen depth (mm)\n",
        "4. flipper_length_mm: flipper length (mm)\n",
        "5. body_mass_g: body mass (g)\n",
        "6. island: island name (Dream, Torgersen, or Biscoe) in the Palmer Archipelago (Antarctica)\n",
        "7. sex: penguin sex\n",
        "\n",
        "\n",
        "![Culmen](https://www.dropbox.com/s/8zqzkvevgo78um4/culmen_depth.png?dl=1)"
      ]
    },
    {
      "cell_type": "markdown",
      "metadata": {
        "id": "RGO_43DzxiZJ"
      },
      "source": [
        "Data originally published in:\n",
        "\n",
        "Gorman KB, Williams TD, Fraser WR (2014). Ecological sexual dimorphism and environmental variability within a community of Antarctic penguins (genus Pygoscelis). PLoS ONE 9(3):e90081. https://doi.org/10.1371/journal.pone.0090081\n",
        "<br>\n",
        "\n",
        "Data citations:\n",
        "\n",
        "Adélie penguins:\n",
        "\n",
        "Palmer Station Antarctica LTER and K. Gorman, 2020. Structural size measurements and isotopic signatures of foraging among adult male and female Adélie penguins (Pygoscelis adeliae) nesting along the Palmer Archipelago near Palmer Station, 2007-2009 ver 5. Environmental Data Initiative. https://doi.org/10.6073/pasta/98b16d7d563f265cb52372c8ca99e60f (Accessed 2020-06-08).\n",
        "\n",
        "<br>\n",
        "Gentoo penguins:\n",
        "\n",
        "Palmer Station Antarctica LTER and K. Gorman, 2020. Structural size measurements and isotopic signatures of foraging among adult male and female Gentoo penguin (Pygoscelis papua) nesting along the Palmer Archipelago near Palmer Station, 2007-2009 ver 5. Environmental Data Initiative. https://doi.org/10.6073/pasta/7fca67fb28d56ee2ffa3d9370ebda689 (Accessed 2020-06-08).\n",
        "\n",
        "<br>\n",
        "Chinstrap penguins:\n",
        "\n",
        "Palmer Station Antarctica LTER and K. Gorman, 2020. Structural size measurements and isotopic signatures of foraging among adult male and female Chinstrap penguin (Pygoscelis antarcticus) nesting along the Palmer Archipelago near Palmer Station, 2007-2009 ver 6. Environmental Data Initiative. https://doi.org/10.6073/pasta/c14dfcfada8ea13a17536e73eb6fbe9e (Accessed 2020-06-08)."
      ]
    },
    {
      "cell_type": "code",
      "execution_count": null,
      "metadata": {
        "id": "oHvCUIhUxiZK"
      },
      "outputs": [],
      "source": [
        "#importing the required libraries\n",
        "import pandas as pd\n",
        "import numpy as np\n",
        "import matplotlib.pyplot as plt\n",
        "\n",
        "from sklearn.impute import SimpleImputer\n",
        "from sklearn.impute import KNNImputer\n",
        "from sklearn.preprocessing import LabelEncoder\n",
        "from sklearn.model_selection import train_test_split\n",
        "from sklearn.tree import DecisionTreeClassifier\n",
        "from sklearn.model_selection import GridSearchCV\n",
        "from sklearn.metrics import classification_report\n",
        "from sklearn.metrics import confusion_matrix\n",
        "from sklearn import tree\n",
        "from sklearn.ensemble import RandomForestClassifier\n",
        "from sklearn.metrics import roc_curve, auc\n",
        "from sklearn.preprocessing import label_binarize\n",
        "from sklearn.inspection import permutation_importance\n",
        "\n",
        "import warnings\n",
        "warnings.filterwarnings(\"ignore\")\n",
        "\n",
        "from mlxtend.plotting import plot_decision_regions\n",
        "\n",
        "from itertools import cycle\n",
        "from math import log"
      ]
    },
    {
      "cell_type": "code",
      "execution_count": null,
      "metadata": {
        "id": "i0m89mx5xiZM"
      },
      "outputs": [],
      "source": [
        "penguin_data = pd.read_csv(\"https://www.dropbox.com/s/i7enaxx8yttjzht/penguins_size.csv?dl=1\")"
      ]
    },
    {
      "cell_type": "code",
      "execution_count": null,
      "metadata": {
        "id": "0JzWFf-zxiZM",
        "outputId": "c412ab11-cc6d-4c43-db09-7838aa939f7e",
        "colab": {
          "base_uri": "https://localhost:8080/",
          "height": 206
        }
      },
      "outputs": [
        {
          "output_type": "execute_result",
          "data": {
            "text/plain": [
              "  species     island  culmen_length_mm  culmen_depth_mm  flipper_length_mm  \\\n",
              "0  Adelie  Torgersen              39.1             18.7              181.0   \n",
              "1  Adelie  Torgersen              39.5             17.4              186.0   \n",
              "2  Adelie  Torgersen              40.3             18.0              195.0   \n",
              "3  Adelie  Torgersen               NaN              NaN                NaN   \n",
              "4  Adelie  Torgersen              36.7             19.3              193.0   \n",
              "\n",
              "   body_mass_g     sex  \n",
              "0       3750.0    MALE  \n",
              "1       3800.0  FEMALE  \n",
              "2       3250.0  FEMALE  \n",
              "3          NaN     NaN  \n",
              "4       3450.0  FEMALE  "
            ],
            "text/html": [
              "\n",
              "  <div id=\"df-2bcc2322-31ca-4279-8056-20afc1df2ad0\">\n",
              "    <div class=\"colab-df-container\">\n",
              "      <div>\n",
              "<style scoped>\n",
              "    .dataframe tbody tr th:only-of-type {\n",
              "        vertical-align: middle;\n",
              "    }\n",
              "\n",
              "    .dataframe tbody tr th {\n",
              "        vertical-align: top;\n",
              "    }\n",
              "\n",
              "    .dataframe thead th {\n",
              "        text-align: right;\n",
              "    }\n",
              "</style>\n",
              "<table border=\"1\" class=\"dataframe\">\n",
              "  <thead>\n",
              "    <tr style=\"text-align: right;\">\n",
              "      <th></th>\n",
              "      <th>species</th>\n",
              "      <th>island</th>\n",
              "      <th>culmen_length_mm</th>\n",
              "      <th>culmen_depth_mm</th>\n",
              "      <th>flipper_length_mm</th>\n",
              "      <th>body_mass_g</th>\n",
              "      <th>sex</th>\n",
              "    </tr>\n",
              "  </thead>\n",
              "  <tbody>\n",
              "    <tr>\n",
              "      <th>0</th>\n",
              "      <td>Adelie</td>\n",
              "      <td>Torgersen</td>\n",
              "      <td>39.1</td>\n",
              "      <td>18.7</td>\n",
              "      <td>181.0</td>\n",
              "      <td>3750.0</td>\n",
              "      <td>MALE</td>\n",
              "    </tr>\n",
              "    <tr>\n",
              "      <th>1</th>\n",
              "      <td>Adelie</td>\n",
              "      <td>Torgersen</td>\n",
              "      <td>39.5</td>\n",
              "      <td>17.4</td>\n",
              "      <td>186.0</td>\n",
              "      <td>3800.0</td>\n",
              "      <td>FEMALE</td>\n",
              "    </tr>\n",
              "    <tr>\n",
              "      <th>2</th>\n",
              "      <td>Adelie</td>\n",
              "      <td>Torgersen</td>\n",
              "      <td>40.3</td>\n",
              "      <td>18.0</td>\n",
              "      <td>195.0</td>\n",
              "      <td>3250.0</td>\n",
              "      <td>FEMALE</td>\n",
              "    </tr>\n",
              "    <tr>\n",
              "      <th>3</th>\n",
              "      <td>Adelie</td>\n",
              "      <td>Torgersen</td>\n",
              "      <td>NaN</td>\n",
              "      <td>NaN</td>\n",
              "      <td>NaN</td>\n",
              "      <td>NaN</td>\n",
              "      <td>NaN</td>\n",
              "    </tr>\n",
              "    <tr>\n",
              "      <th>4</th>\n",
              "      <td>Adelie</td>\n",
              "      <td>Torgersen</td>\n",
              "      <td>36.7</td>\n",
              "      <td>19.3</td>\n",
              "      <td>193.0</td>\n",
              "      <td>3450.0</td>\n",
              "      <td>FEMALE</td>\n",
              "    </tr>\n",
              "  </tbody>\n",
              "</table>\n",
              "</div>\n",
              "      <button class=\"colab-df-convert\" onclick=\"convertToInteractive('df-2bcc2322-31ca-4279-8056-20afc1df2ad0')\"\n",
              "              title=\"Convert this dataframe to an interactive table.\"\n",
              "              style=\"display:none;\">\n",
              "        \n",
              "  <svg xmlns=\"http://www.w3.org/2000/svg\" height=\"24px\"viewBox=\"0 0 24 24\"\n",
              "       width=\"24px\">\n",
              "    <path d=\"M0 0h24v24H0V0z\" fill=\"none\"/>\n",
              "    <path d=\"M18.56 5.44l.94 2.06.94-2.06 2.06-.94-2.06-.94-.94-2.06-.94 2.06-2.06.94zm-11 1L8.5 8.5l.94-2.06 2.06-.94-2.06-.94L8.5 2.5l-.94 2.06-2.06.94zm10 10l.94 2.06.94-2.06 2.06-.94-2.06-.94-.94-2.06-.94 2.06-2.06.94z\"/><path d=\"M17.41 7.96l-1.37-1.37c-.4-.4-.92-.59-1.43-.59-.52 0-1.04.2-1.43.59L10.3 9.45l-7.72 7.72c-.78.78-.78 2.05 0 2.83L4 21.41c.39.39.9.59 1.41.59.51 0 1.02-.2 1.41-.59l7.78-7.78 2.81-2.81c.8-.78.8-2.07 0-2.86zM5.41 20L4 18.59l7.72-7.72 1.47 1.35L5.41 20z\"/>\n",
              "  </svg>\n",
              "      </button>\n",
              "      \n",
              "  <style>\n",
              "    .colab-df-container {\n",
              "      display:flex;\n",
              "      flex-wrap:wrap;\n",
              "      gap: 12px;\n",
              "    }\n",
              "\n",
              "    .colab-df-convert {\n",
              "      background-color: #E8F0FE;\n",
              "      border: none;\n",
              "      border-radius: 50%;\n",
              "      cursor: pointer;\n",
              "      display: none;\n",
              "      fill: #1967D2;\n",
              "      height: 32px;\n",
              "      padding: 0 0 0 0;\n",
              "      width: 32px;\n",
              "    }\n",
              "\n",
              "    .colab-df-convert:hover {\n",
              "      background-color: #E2EBFA;\n",
              "      box-shadow: 0px 1px 2px rgba(60, 64, 67, 0.3), 0px 1px 3px 1px rgba(60, 64, 67, 0.15);\n",
              "      fill: #174EA6;\n",
              "    }\n",
              "\n",
              "    [theme=dark] .colab-df-convert {\n",
              "      background-color: #3B4455;\n",
              "      fill: #D2E3FC;\n",
              "    }\n",
              "\n",
              "    [theme=dark] .colab-df-convert:hover {\n",
              "      background-color: #434B5C;\n",
              "      box-shadow: 0px 1px 3px 1px rgba(0, 0, 0, 0.15);\n",
              "      filter: drop-shadow(0px 1px 2px rgba(0, 0, 0, 0.3));\n",
              "      fill: #FFFFFF;\n",
              "    }\n",
              "  </style>\n",
              "\n",
              "      <script>\n",
              "        const buttonEl =\n",
              "          document.querySelector('#df-2bcc2322-31ca-4279-8056-20afc1df2ad0 button.colab-df-convert');\n",
              "        buttonEl.style.display =\n",
              "          google.colab.kernel.accessAllowed ? 'block' : 'none';\n",
              "\n",
              "        async function convertToInteractive(key) {\n",
              "          const element = document.querySelector('#df-2bcc2322-31ca-4279-8056-20afc1df2ad0');\n",
              "          const dataTable =\n",
              "            await google.colab.kernel.invokeFunction('convertToInteractive',\n",
              "                                                     [key], {});\n",
              "          if (!dataTable) return;\n",
              "\n",
              "          const docLinkHtml = 'Like what you see? Visit the ' +\n",
              "            '<a target=\"_blank\" href=https://colab.research.google.com/notebooks/data_table.ipynb>data table notebook</a>'\n",
              "            + ' to learn more about interactive tables.';\n",
              "          element.innerHTML = '';\n",
              "          dataTable['output_type'] = 'display_data';\n",
              "          await google.colab.output.renderOutput(dataTable, element);\n",
              "          const docLink = document.createElement('div');\n",
              "          docLink.innerHTML = docLinkHtml;\n",
              "          element.appendChild(docLink);\n",
              "        }\n",
              "      </script>\n",
              "    </div>\n",
              "  </div>\n",
              "  "
            ]
          },
          "metadata": {},
          "execution_count": 3
        }
      ],
      "source": [
        "penguin_data.head()"
      ]
    },
    {
      "cell_type": "code",
      "execution_count": null,
      "metadata": {
        "id": "UVHUJgUkxiZN",
        "outputId": "630e8967-a3d0-4c62-902e-18f86b3cd8bc",
        "colab": {
          "base_uri": "https://localhost:8080/"
        }
      },
      "outputs": [
        {
          "output_type": "stream",
          "name": "stdout",
          "text": [
            "<class 'pandas.core.frame.DataFrame'>\n",
            "RangeIndex: 344 entries, 0 to 343\n",
            "Data columns (total 7 columns):\n",
            " #   Column             Non-Null Count  Dtype  \n",
            "---  ------             --------------  -----  \n",
            " 0   species            344 non-null    object \n",
            " 1   island             344 non-null    object \n",
            " 2   culmen_length_mm   342 non-null    float64\n",
            " 3   culmen_depth_mm    342 non-null    float64\n",
            " 4   flipper_length_mm  342 non-null    float64\n",
            " 5   body_mass_g        342 non-null    float64\n",
            " 6   sex                334 non-null    object \n",
            "dtypes: float64(4), object(3)\n",
            "memory usage: 18.9+ KB\n"
          ]
        }
      ],
      "source": [
        "penguin_data.info()"
      ]
    },
    {
      "cell_type": "code",
      "execution_count": null,
      "metadata": {
        "id": "7UE664U4xiZO"
      },
      "outputs": [],
      "source": [
        "species = penguin_data[\"species\"].unique()"
      ]
    },
    {
      "cell_type": "code",
      "execution_count": null,
      "metadata": {
        "id": "_m7ci9PexiZO",
        "outputId": "e78cd3af-13dd-4d3a-e7d3-b2745f8fe006",
        "colab": {
          "base_uri": "https://localhost:8080/"
        }
      },
      "outputs": [
        {
          "output_type": "stream",
          "name": "stdout",
          "text": [
            "['Adelie' 'Chinstrap' 'Gentoo']\n"
          ]
        }
      ],
      "source": [
        "print(species)"
      ]
    },
    {
      "cell_type": "markdown",
      "metadata": {
        "id": "Klyq_OhPxiZO"
      },
      "source": [
        "We can observe there are some null values in the dataset collected. So lets do some data cleaning! \\\n",
        "Instead of dropping the missing data, lets instead do imputation.\n",
        "\n",
        "https://scikit-learn.org/stable/modules/impute.html#"
      ]
    },
    {
      "cell_type": "markdown",
      "metadata": {
        "id": "bOcLn2AwxiZO"
      },
      "source": [
        "### Imputation for completing missing values using k-Nearest Neighbors."
      ]
    },
    {
      "cell_type": "markdown",
      "metadata": {
        "id": "Ubd6sQEUxiZP"
      },
      "source": [
        "For imputing missing values in categorical variables, we have to encode the categorical values into numeric values as KNNImputer works only for numeric variables.\n",
        "\n",
        "We can perform this using a mapping of categories to numeric variables."
      ]
    },
    {
      "cell_type": "code",
      "execution_count": null,
      "metadata": {
        "id": "ivmdIij7xiZP"
      },
      "outputs": [],
      "source": [
        "def label_encode_features(dataset):\n",
        "    #Use LabelEncoder to encode the categorical columns\n",
        "    #You should replace the corresponding columns in the dataframe and return the dataframe\n",
        "\n",
        "    #Enter your code\n",
        "    #---------------\n",
        "\n",
        "    #---------------\n",
        "    return dataset"
      ]
    },
    {
      "cell_type": "code",
      "execution_count": null,
      "metadata": {
        "id": "HLU97EMCxiZP"
      },
      "outputs": [],
      "source": [
        "penguin_data = label_encode_features(penguin_data)"
      ]
    },
    {
      "cell_type": "code",
      "execution_count": null,
      "metadata": {
        "id": "D0eZDmPAxiZP",
        "outputId": "9be88eda-22c3-466e-c18d-7f4e7a335c50",
        "colab": {
          "base_uri": "https://localhost:8080/",
          "height": 206
        }
      },
      "outputs": [
        {
          "output_type": "execute_result",
          "data": {
            "text/plain": [
              "  species     island  culmen_length_mm  culmen_depth_mm  flipper_length_mm  \\\n",
              "0  Adelie  Torgersen              39.1             18.7              181.0   \n",
              "1  Adelie  Torgersen              39.5             17.4              186.0   \n",
              "2  Adelie  Torgersen              40.3             18.0              195.0   \n",
              "3  Adelie  Torgersen               NaN              NaN                NaN   \n",
              "4  Adelie  Torgersen              36.7             19.3              193.0   \n",
              "\n",
              "   body_mass_g     sex  \n",
              "0       3750.0    MALE  \n",
              "1       3800.0  FEMALE  \n",
              "2       3250.0  FEMALE  \n",
              "3          NaN     NaN  \n",
              "4       3450.0  FEMALE  "
            ],
            "text/html": [
              "\n",
              "  <div id=\"df-08184b84-7f3d-439f-a340-07fb8cde199d\">\n",
              "    <div class=\"colab-df-container\">\n",
              "      <div>\n",
              "<style scoped>\n",
              "    .dataframe tbody tr th:only-of-type {\n",
              "        vertical-align: middle;\n",
              "    }\n",
              "\n",
              "    .dataframe tbody tr th {\n",
              "        vertical-align: top;\n",
              "    }\n",
              "\n",
              "    .dataframe thead th {\n",
              "        text-align: right;\n",
              "    }\n",
              "</style>\n",
              "<table border=\"1\" class=\"dataframe\">\n",
              "  <thead>\n",
              "    <tr style=\"text-align: right;\">\n",
              "      <th></th>\n",
              "      <th>species</th>\n",
              "      <th>island</th>\n",
              "      <th>culmen_length_mm</th>\n",
              "      <th>culmen_depth_mm</th>\n",
              "      <th>flipper_length_mm</th>\n",
              "      <th>body_mass_g</th>\n",
              "      <th>sex</th>\n",
              "    </tr>\n",
              "  </thead>\n",
              "  <tbody>\n",
              "    <tr>\n",
              "      <th>0</th>\n",
              "      <td>Adelie</td>\n",
              "      <td>Torgersen</td>\n",
              "      <td>39.1</td>\n",
              "      <td>18.7</td>\n",
              "      <td>181.0</td>\n",
              "      <td>3750.0</td>\n",
              "      <td>MALE</td>\n",
              "    </tr>\n",
              "    <tr>\n",
              "      <th>1</th>\n",
              "      <td>Adelie</td>\n",
              "      <td>Torgersen</td>\n",
              "      <td>39.5</td>\n",
              "      <td>17.4</td>\n",
              "      <td>186.0</td>\n",
              "      <td>3800.0</td>\n",
              "      <td>FEMALE</td>\n",
              "    </tr>\n",
              "    <tr>\n",
              "      <th>2</th>\n",
              "      <td>Adelie</td>\n",
              "      <td>Torgersen</td>\n",
              "      <td>40.3</td>\n",
              "      <td>18.0</td>\n",
              "      <td>195.0</td>\n",
              "      <td>3250.0</td>\n",
              "      <td>FEMALE</td>\n",
              "    </tr>\n",
              "    <tr>\n",
              "      <th>3</th>\n",
              "      <td>Adelie</td>\n",
              "      <td>Torgersen</td>\n",
              "      <td>NaN</td>\n",
              "      <td>NaN</td>\n",
              "      <td>NaN</td>\n",
              "      <td>NaN</td>\n",
              "      <td>NaN</td>\n",
              "    </tr>\n",
              "    <tr>\n",
              "      <th>4</th>\n",
              "      <td>Adelie</td>\n",
              "      <td>Torgersen</td>\n",
              "      <td>36.7</td>\n",
              "      <td>19.3</td>\n",
              "      <td>193.0</td>\n",
              "      <td>3450.0</td>\n",
              "      <td>FEMALE</td>\n",
              "    </tr>\n",
              "  </tbody>\n",
              "</table>\n",
              "</div>\n",
              "      <button class=\"colab-df-convert\" onclick=\"convertToInteractive('df-08184b84-7f3d-439f-a340-07fb8cde199d')\"\n",
              "              title=\"Convert this dataframe to an interactive table.\"\n",
              "              style=\"display:none;\">\n",
              "        \n",
              "  <svg xmlns=\"http://www.w3.org/2000/svg\" height=\"24px\"viewBox=\"0 0 24 24\"\n",
              "       width=\"24px\">\n",
              "    <path d=\"M0 0h24v24H0V0z\" fill=\"none\"/>\n",
              "    <path d=\"M18.56 5.44l.94 2.06.94-2.06 2.06-.94-2.06-.94-.94-2.06-.94 2.06-2.06.94zm-11 1L8.5 8.5l.94-2.06 2.06-.94-2.06-.94L8.5 2.5l-.94 2.06-2.06.94zm10 10l.94 2.06.94-2.06 2.06-.94-2.06-.94-.94-2.06-.94 2.06-2.06.94z\"/><path d=\"M17.41 7.96l-1.37-1.37c-.4-.4-.92-.59-1.43-.59-.52 0-1.04.2-1.43.59L10.3 9.45l-7.72 7.72c-.78.78-.78 2.05 0 2.83L4 21.41c.39.39.9.59 1.41.59.51 0 1.02-.2 1.41-.59l7.78-7.78 2.81-2.81c.8-.78.8-2.07 0-2.86zM5.41 20L4 18.59l7.72-7.72 1.47 1.35L5.41 20z\"/>\n",
              "  </svg>\n",
              "      </button>\n",
              "      \n",
              "  <style>\n",
              "    .colab-df-container {\n",
              "      display:flex;\n",
              "      flex-wrap:wrap;\n",
              "      gap: 12px;\n",
              "    }\n",
              "\n",
              "    .colab-df-convert {\n",
              "      background-color: #E8F0FE;\n",
              "      border: none;\n",
              "      border-radius: 50%;\n",
              "      cursor: pointer;\n",
              "      display: none;\n",
              "      fill: #1967D2;\n",
              "      height: 32px;\n",
              "      padding: 0 0 0 0;\n",
              "      width: 32px;\n",
              "    }\n",
              "\n",
              "    .colab-df-convert:hover {\n",
              "      background-color: #E2EBFA;\n",
              "      box-shadow: 0px 1px 2px rgba(60, 64, 67, 0.3), 0px 1px 3px 1px rgba(60, 64, 67, 0.15);\n",
              "      fill: #174EA6;\n",
              "    }\n",
              "\n",
              "    [theme=dark] .colab-df-convert {\n",
              "      background-color: #3B4455;\n",
              "      fill: #D2E3FC;\n",
              "    }\n",
              "\n",
              "    [theme=dark] .colab-df-convert:hover {\n",
              "      background-color: #434B5C;\n",
              "      box-shadow: 0px 1px 3px 1px rgba(0, 0, 0, 0.15);\n",
              "      filter: drop-shadow(0px 1px 2px rgba(0, 0, 0, 0.3));\n",
              "      fill: #FFFFFF;\n",
              "    }\n",
              "  </style>\n",
              "\n",
              "      <script>\n",
              "        const buttonEl =\n",
              "          document.querySelector('#df-08184b84-7f3d-439f-a340-07fb8cde199d button.colab-df-convert');\n",
              "        buttonEl.style.display =\n",
              "          google.colab.kernel.accessAllowed ? 'block' : 'none';\n",
              "\n",
              "        async function convertToInteractive(key) {\n",
              "          const element = document.querySelector('#df-08184b84-7f3d-439f-a340-07fb8cde199d');\n",
              "          const dataTable =\n",
              "            await google.colab.kernel.invokeFunction('convertToInteractive',\n",
              "                                                     [key], {});\n",
              "          if (!dataTable) return;\n",
              "\n",
              "          const docLinkHtml = 'Like what you see? Visit the ' +\n",
              "            '<a target=\"_blank\" href=https://colab.research.google.com/notebooks/data_table.ipynb>data table notebook</a>'\n",
              "            + ' to learn more about interactive tables.';\n",
              "          element.innerHTML = '';\n",
              "          dataTable['output_type'] = 'display_data';\n",
              "          await google.colab.output.renderOutput(dataTable, element);\n",
              "          const docLink = document.createElement('div');\n",
              "          docLink.innerHTML = docLinkHtml;\n",
              "          element.appendChild(docLink);\n",
              "        }\n",
              "      </script>\n",
              "    </div>\n",
              "  </div>\n",
              "  "
            ]
          },
          "metadata": {},
          "execution_count": 9
        }
      ],
      "source": [
        "penguin_data.head()"
      ]
    },
    {
      "cell_type": "markdown",
      "metadata": {
        "id": "_YuG0Sf_xiZQ"
      },
      "source": [
        "### Note NaN values have also been encoded"
      ]
    },
    {
      "cell_type": "code",
      "execution_count": null,
      "metadata": {
        "id": "IKN58612xiZQ"
      },
      "outputs": [],
      "source": [
        "penguin_data.loc[penguin_data[\"sex\"] == 2,\"sex\"] = np.nan       #reverting back encoded nan values for imputation"
      ]
    },
    {
      "cell_type": "code",
      "execution_count": null,
      "metadata": {
        "id": "4JtlOt69xiZQ",
        "outputId": "40383681-3372-4637-fc81-23c23669831d",
        "colab": {
          "base_uri": "https://localhost:8080/",
          "height": 206
        }
      },
      "outputs": [
        {
          "output_type": "execute_result",
          "data": {
            "text/plain": [
              "  species     island  culmen_length_mm  culmen_depth_mm  flipper_length_mm  \\\n",
              "0  Adelie  Torgersen              39.1             18.7              181.0   \n",
              "1  Adelie  Torgersen              39.5             17.4              186.0   \n",
              "2  Adelie  Torgersen              40.3             18.0              195.0   \n",
              "3  Adelie  Torgersen               NaN              NaN                NaN   \n",
              "4  Adelie  Torgersen              36.7             19.3              193.0   \n",
              "\n",
              "   body_mass_g     sex  \n",
              "0       3750.0    MALE  \n",
              "1       3800.0  FEMALE  \n",
              "2       3250.0  FEMALE  \n",
              "3          NaN     NaN  \n",
              "4       3450.0  FEMALE  "
            ],
            "text/html": [
              "\n",
              "  <div id=\"df-d1af5595-6932-4da6-a71b-11d3874d670b\">\n",
              "    <div class=\"colab-df-container\">\n",
              "      <div>\n",
              "<style scoped>\n",
              "    .dataframe tbody tr th:only-of-type {\n",
              "        vertical-align: middle;\n",
              "    }\n",
              "\n",
              "    .dataframe tbody tr th {\n",
              "        vertical-align: top;\n",
              "    }\n",
              "\n",
              "    .dataframe thead th {\n",
              "        text-align: right;\n",
              "    }\n",
              "</style>\n",
              "<table border=\"1\" class=\"dataframe\">\n",
              "  <thead>\n",
              "    <tr style=\"text-align: right;\">\n",
              "      <th></th>\n",
              "      <th>species</th>\n",
              "      <th>island</th>\n",
              "      <th>culmen_length_mm</th>\n",
              "      <th>culmen_depth_mm</th>\n",
              "      <th>flipper_length_mm</th>\n",
              "      <th>body_mass_g</th>\n",
              "      <th>sex</th>\n",
              "    </tr>\n",
              "  </thead>\n",
              "  <tbody>\n",
              "    <tr>\n",
              "      <th>0</th>\n",
              "      <td>Adelie</td>\n",
              "      <td>Torgersen</td>\n",
              "      <td>39.1</td>\n",
              "      <td>18.7</td>\n",
              "      <td>181.0</td>\n",
              "      <td>3750.0</td>\n",
              "      <td>MALE</td>\n",
              "    </tr>\n",
              "    <tr>\n",
              "      <th>1</th>\n",
              "      <td>Adelie</td>\n",
              "      <td>Torgersen</td>\n",
              "      <td>39.5</td>\n",
              "      <td>17.4</td>\n",
              "      <td>186.0</td>\n",
              "      <td>3800.0</td>\n",
              "      <td>FEMALE</td>\n",
              "    </tr>\n",
              "    <tr>\n",
              "      <th>2</th>\n",
              "      <td>Adelie</td>\n",
              "      <td>Torgersen</td>\n",
              "      <td>40.3</td>\n",
              "      <td>18.0</td>\n",
              "      <td>195.0</td>\n",
              "      <td>3250.0</td>\n",
              "      <td>FEMALE</td>\n",
              "    </tr>\n",
              "    <tr>\n",
              "      <th>3</th>\n",
              "      <td>Adelie</td>\n",
              "      <td>Torgersen</td>\n",
              "      <td>NaN</td>\n",
              "      <td>NaN</td>\n",
              "      <td>NaN</td>\n",
              "      <td>NaN</td>\n",
              "      <td>NaN</td>\n",
              "    </tr>\n",
              "    <tr>\n",
              "      <th>4</th>\n",
              "      <td>Adelie</td>\n",
              "      <td>Torgersen</td>\n",
              "      <td>36.7</td>\n",
              "      <td>19.3</td>\n",
              "      <td>193.0</td>\n",
              "      <td>3450.0</td>\n",
              "      <td>FEMALE</td>\n",
              "    </tr>\n",
              "  </tbody>\n",
              "</table>\n",
              "</div>\n",
              "      <button class=\"colab-df-convert\" onclick=\"convertToInteractive('df-d1af5595-6932-4da6-a71b-11d3874d670b')\"\n",
              "              title=\"Convert this dataframe to an interactive table.\"\n",
              "              style=\"display:none;\">\n",
              "        \n",
              "  <svg xmlns=\"http://www.w3.org/2000/svg\" height=\"24px\"viewBox=\"0 0 24 24\"\n",
              "       width=\"24px\">\n",
              "    <path d=\"M0 0h24v24H0V0z\" fill=\"none\"/>\n",
              "    <path d=\"M18.56 5.44l.94 2.06.94-2.06 2.06-.94-2.06-.94-.94-2.06-.94 2.06-2.06.94zm-11 1L8.5 8.5l.94-2.06 2.06-.94-2.06-.94L8.5 2.5l-.94 2.06-2.06.94zm10 10l.94 2.06.94-2.06 2.06-.94-2.06-.94-.94-2.06-.94 2.06-2.06.94z\"/><path d=\"M17.41 7.96l-1.37-1.37c-.4-.4-.92-.59-1.43-.59-.52 0-1.04.2-1.43.59L10.3 9.45l-7.72 7.72c-.78.78-.78 2.05 0 2.83L4 21.41c.39.39.9.59 1.41.59.51 0 1.02-.2 1.41-.59l7.78-7.78 2.81-2.81c.8-.78.8-2.07 0-2.86zM5.41 20L4 18.59l7.72-7.72 1.47 1.35L5.41 20z\"/>\n",
              "  </svg>\n",
              "      </button>\n",
              "      \n",
              "  <style>\n",
              "    .colab-df-container {\n",
              "      display:flex;\n",
              "      flex-wrap:wrap;\n",
              "      gap: 12px;\n",
              "    }\n",
              "\n",
              "    .colab-df-convert {\n",
              "      background-color: #E8F0FE;\n",
              "      border: none;\n",
              "      border-radius: 50%;\n",
              "      cursor: pointer;\n",
              "      display: none;\n",
              "      fill: #1967D2;\n",
              "      height: 32px;\n",
              "      padding: 0 0 0 0;\n",
              "      width: 32px;\n",
              "    }\n",
              "\n",
              "    .colab-df-convert:hover {\n",
              "      background-color: #E2EBFA;\n",
              "      box-shadow: 0px 1px 2px rgba(60, 64, 67, 0.3), 0px 1px 3px 1px rgba(60, 64, 67, 0.15);\n",
              "      fill: #174EA6;\n",
              "    }\n",
              "\n",
              "    [theme=dark] .colab-df-convert {\n",
              "      background-color: #3B4455;\n",
              "      fill: #D2E3FC;\n",
              "    }\n",
              "\n",
              "    [theme=dark] .colab-df-convert:hover {\n",
              "      background-color: #434B5C;\n",
              "      box-shadow: 0px 1px 3px 1px rgba(0, 0, 0, 0.15);\n",
              "      filter: drop-shadow(0px 1px 2px rgba(0, 0, 0, 0.3));\n",
              "      fill: #FFFFFF;\n",
              "    }\n",
              "  </style>\n",
              "\n",
              "      <script>\n",
              "        const buttonEl =\n",
              "          document.querySelector('#df-d1af5595-6932-4da6-a71b-11d3874d670b button.colab-df-convert');\n",
              "        buttonEl.style.display =\n",
              "          google.colab.kernel.accessAllowed ? 'block' : 'none';\n",
              "\n",
              "        async function convertToInteractive(key) {\n",
              "          const element = document.querySelector('#df-d1af5595-6932-4da6-a71b-11d3874d670b');\n",
              "          const dataTable =\n",
              "            await google.colab.kernel.invokeFunction('convertToInteractive',\n",
              "                                                     [key], {});\n",
              "          if (!dataTable) return;\n",
              "\n",
              "          const docLinkHtml = 'Like what you see? Visit the ' +\n",
              "            '<a target=\"_blank\" href=https://colab.research.google.com/notebooks/data_table.ipynb>data table notebook</a>'\n",
              "            + ' to learn more about interactive tables.';\n",
              "          element.innerHTML = '';\n",
              "          dataTable['output_type'] = 'display_data';\n",
              "          await google.colab.output.renderOutput(dataTable, element);\n",
              "          const docLink = document.createElement('div');\n",
              "          docLink.innerHTML = docLinkHtml;\n",
              "          element.appendChild(docLink);\n",
              "        }\n",
              "      </script>\n",
              "    </div>\n",
              "  </div>\n",
              "  "
            ]
          },
          "metadata": {},
          "execution_count": 11
        }
      ],
      "source": [
        "penguin_data.head()"
      ]
    },
    {
      "cell_type": "code",
      "execution_count": null,
      "metadata": {
        "id": "BhqTV1jOxiZQ"
      },
      "outputs": [],
      "source": [
        "def dataset_imputation_KNN(dataset, n_neighbors):\n",
        "    #use KNNImputer to replace the missing values\n",
        "    #Your code should return the dataframe after imputation\n",
        "\n",
        "    #Enter your code here\n",
        "    #--------------------\n",
        "\n",
        "    #--------------------\n",
        "    return dataset"
      ]
    },
    {
      "cell_type": "code",
      "execution_count": null,
      "metadata": {
        "id": "m0uhrlMRxiZR"
      },
      "outputs": [],
      "source": [
        "penguin_data_imp_KNN = dataset_imputation_KNN(penguin_data, n_neighbors = 4)"
      ]
    },
    {
      "cell_type": "code",
      "execution_count": null,
      "metadata": {
        "id": "cztMK8h8xiZR",
        "outputId": "9301801d-a295-4d30-9b5a-c306a1198384",
        "colab": {
          "base_uri": "https://localhost:8080/",
          "height": 206
        }
      },
      "outputs": [
        {
          "output_type": "execute_result",
          "data": {
            "text/plain": [
              "  species     island  culmen_length_mm  culmen_depth_mm  flipper_length_mm  \\\n",
              "0  Adelie  Torgersen              39.1             18.7              181.0   \n",
              "1  Adelie  Torgersen              39.5             17.4              186.0   \n",
              "2  Adelie  Torgersen              40.3             18.0              195.0   \n",
              "3  Adelie  Torgersen               NaN              NaN                NaN   \n",
              "4  Adelie  Torgersen              36.7             19.3              193.0   \n",
              "\n",
              "   body_mass_g     sex  \n",
              "0       3750.0    MALE  \n",
              "1       3800.0  FEMALE  \n",
              "2       3250.0  FEMALE  \n",
              "3          NaN     NaN  \n",
              "4       3450.0  FEMALE  "
            ],
            "text/html": [
              "\n",
              "  <div id=\"df-acf5ad49-44c4-4445-80e3-98254b806440\">\n",
              "    <div class=\"colab-df-container\">\n",
              "      <div>\n",
              "<style scoped>\n",
              "    .dataframe tbody tr th:only-of-type {\n",
              "        vertical-align: middle;\n",
              "    }\n",
              "\n",
              "    .dataframe tbody tr th {\n",
              "        vertical-align: top;\n",
              "    }\n",
              "\n",
              "    .dataframe thead th {\n",
              "        text-align: right;\n",
              "    }\n",
              "</style>\n",
              "<table border=\"1\" class=\"dataframe\">\n",
              "  <thead>\n",
              "    <tr style=\"text-align: right;\">\n",
              "      <th></th>\n",
              "      <th>species</th>\n",
              "      <th>island</th>\n",
              "      <th>culmen_length_mm</th>\n",
              "      <th>culmen_depth_mm</th>\n",
              "      <th>flipper_length_mm</th>\n",
              "      <th>body_mass_g</th>\n",
              "      <th>sex</th>\n",
              "    </tr>\n",
              "  </thead>\n",
              "  <tbody>\n",
              "    <tr>\n",
              "      <th>0</th>\n",
              "      <td>Adelie</td>\n",
              "      <td>Torgersen</td>\n",
              "      <td>39.1</td>\n",
              "      <td>18.7</td>\n",
              "      <td>181.0</td>\n",
              "      <td>3750.0</td>\n",
              "      <td>MALE</td>\n",
              "    </tr>\n",
              "    <tr>\n",
              "      <th>1</th>\n",
              "      <td>Adelie</td>\n",
              "      <td>Torgersen</td>\n",
              "      <td>39.5</td>\n",
              "      <td>17.4</td>\n",
              "      <td>186.0</td>\n",
              "      <td>3800.0</td>\n",
              "      <td>FEMALE</td>\n",
              "    </tr>\n",
              "    <tr>\n",
              "      <th>2</th>\n",
              "      <td>Adelie</td>\n",
              "      <td>Torgersen</td>\n",
              "      <td>40.3</td>\n",
              "      <td>18.0</td>\n",
              "      <td>195.0</td>\n",
              "      <td>3250.0</td>\n",
              "      <td>FEMALE</td>\n",
              "    </tr>\n",
              "    <tr>\n",
              "      <th>3</th>\n",
              "      <td>Adelie</td>\n",
              "      <td>Torgersen</td>\n",
              "      <td>NaN</td>\n",
              "      <td>NaN</td>\n",
              "      <td>NaN</td>\n",
              "      <td>NaN</td>\n",
              "      <td>NaN</td>\n",
              "    </tr>\n",
              "    <tr>\n",
              "      <th>4</th>\n",
              "      <td>Adelie</td>\n",
              "      <td>Torgersen</td>\n",
              "      <td>36.7</td>\n",
              "      <td>19.3</td>\n",
              "      <td>193.0</td>\n",
              "      <td>3450.0</td>\n",
              "      <td>FEMALE</td>\n",
              "    </tr>\n",
              "  </tbody>\n",
              "</table>\n",
              "</div>\n",
              "      <button class=\"colab-df-convert\" onclick=\"convertToInteractive('df-acf5ad49-44c4-4445-80e3-98254b806440')\"\n",
              "              title=\"Convert this dataframe to an interactive table.\"\n",
              "              style=\"display:none;\">\n",
              "        \n",
              "  <svg xmlns=\"http://www.w3.org/2000/svg\" height=\"24px\"viewBox=\"0 0 24 24\"\n",
              "       width=\"24px\">\n",
              "    <path d=\"M0 0h24v24H0V0z\" fill=\"none\"/>\n",
              "    <path d=\"M18.56 5.44l.94 2.06.94-2.06 2.06-.94-2.06-.94-.94-2.06-.94 2.06-2.06.94zm-11 1L8.5 8.5l.94-2.06 2.06-.94-2.06-.94L8.5 2.5l-.94 2.06-2.06.94zm10 10l.94 2.06.94-2.06 2.06-.94-2.06-.94-.94-2.06-.94 2.06-2.06.94z\"/><path d=\"M17.41 7.96l-1.37-1.37c-.4-.4-.92-.59-1.43-.59-.52 0-1.04.2-1.43.59L10.3 9.45l-7.72 7.72c-.78.78-.78 2.05 0 2.83L4 21.41c.39.39.9.59 1.41.59.51 0 1.02-.2 1.41-.59l7.78-7.78 2.81-2.81c.8-.78.8-2.07 0-2.86zM5.41 20L4 18.59l7.72-7.72 1.47 1.35L5.41 20z\"/>\n",
              "  </svg>\n",
              "      </button>\n",
              "      \n",
              "  <style>\n",
              "    .colab-df-container {\n",
              "      display:flex;\n",
              "      flex-wrap:wrap;\n",
              "      gap: 12px;\n",
              "    }\n",
              "\n",
              "    .colab-df-convert {\n",
              "      background-color: #E8F0FE;\n",
              "      border: none;\n",
              "      border-radius: 50%;\n",
              "      cursor: pointer;\n",
              "      display: none;\n",
              "      fill: #1967D2;\n",
              "      height: 32px;\n",
              "      padding: 0 0 0 0;\n",
              "      width: 32px;\n",
              "    }\n",
              "\n",
              "    .colab-df-convert:hover {\n",
              "      background-color: #E2EBFA;\n",
              "      box-shadow: 0px 1px 2px rgba(60, 64, 67, 0.3), 0px 1px 3px 1px rgba(60, 64, 67, 0.15);\n",
              "      fill: #174EA6;\n",
              "    }\n",
              "\n",
              "    [theme=dark] .colab-df-convert {\n",
              "      background-color: #3B4455;\n",
              "      fill: #D2E3FC;\n",
              "    }\n",
              "\n",
              "    [theme=dark] .colab-df-convert:hover {\n",
              "      background-color: #434B5C;\n",
              "      box-shadow: 0px 1px 3px 1px rgba(0, 0, 0, 0.15);\n",
              "      filter: drop-shadow(0px 1px 2px rgba(0, 0, 0, 0.3));\n",
              "      fill: #FFFFFF;\n",
              "    }\n",
              "  </style>\n",
              "\n",
              "      <script>\n",
              "        const buttonEl =\n",
              "          document.querySelector('#df-acf5ad49-44c4-4445-80e3-98254b806440 button.colab-df-convert');\n",
              "        buttonEl.style.display =\n",
              "          google.colab.kernel.accessAllowed ? 'block' : 'none';\n",
              "\n",
              "        async function convertToInteractive(key) {\n",
              "          const element = document.querySelector('#df-acf5ad49-44c4-4445-80e3-98254b806440');\n",
              "          const dataTable =\n",
              "            await google.colab.kernel.invokeFunction('convertToInteractive',\n",
              "                                                     [key], {});\n",
              "          if (!dataTable) return;\n",
              "\n",
              "          const docLinkHtml = 'Like what you see? Visit the ' +\n",
              "            '<a target=\"_blank\" href=https://colab.research.google.com/notebooks/data_table.ipynb>data table notebook</a>'\n",
              "            + ' to learn more about interactive tables.';\n",
              "          element.innerHTML = '';\n",
              "          dataTable['output_type'] = 'display_data';\n",
              "          await google.colab.output.renderOutput(dataTable, element);\n",
              "          const docLink = document.createElement('div');\n",
              "          docLink.innerHTML = docLinkHtml;\n",
              "          element.appendChild(docLink);\n",
              "        }\n",
              "      </script>\n",
              "    </div>\n",
              "  </div>\n",
              "  "
            ]
          },
          "metadata": {},
          "execution_count": 14
        }
      ],
      "source": [
        "penguin_data_imp_KNN.head()"
      ]
    },
    {
      "cell_type": "code",
      "execution_count": null,
      "metadata": {
        "id": "9P7JZCmJxiZR",
        "outputId": "22d09a34-b7a7-46a4-9de9-265311f7fc82",
        "colab": {
          "base_uri": "https://localhost:8080/"
        }
      },
      "outputs": [
        {
          "output_type": "stream",
          "name": "stdout",
          "text": [
            "<class 'pandas.core.frame.DataFrame'>\n",
            "RangeIndex: 344 entries, 0 to 343\n",
            "Data columns (total 7 columns):\n",
            " #   Column             Non-Null Count  Dtype  \n",
            "---  ------             --------------  -----  \n",
            " 0   species            344 non-null    object \n",
            " 1   island             344 non-null    object \n",
            " 2   culmen_length_mm   342 non-null    float64\n",
            " 3   culmen_depth_mm    342 non-null    float64\n",
            " 4   flipper_length_mm  342 non-null    float64\n",
            " 5   body_mass_g        342 non-null    float64\n",
            " 6   sex                334 non-null    object \n",
            "dtypes: float64(4), object(3)\n",
            "memory usage: 18.9+ KB\n"
          ]
        }
      ],
      "source": [
        "penguin_data_imp_KNN.info()"
      ]
    },
    {
      "cell_type": "markdown",
      "metadata": {
        "id": "SvBW6pkSxiZR"
      },
      "source": [
        "### We can also perform univariate imputation using SimpleImputer\n",
        "### Similar to pandas.DataFrame.fillna()"
      ]
    },
    {
      "cell_type": "code",
      "execution_count": null,
      "metadata": {
        "id": "4csXjfRNxiZR"
      },
      "outputs": [],
      "source": [
        "def dataset_simple_imputation(dataset, strategy):\n",
        "    #use SimpleImputer to replace the missing values as per the strategy\n",
        "    #Your code should return the dataframe after imputation\n",
        "\n",
        "    #Enter your code here\n",
        "    #--------------------\n",
        "\n",
        "    #--------------------\n",
        "    return dataset"
      ]
    },
    {
      "cell_type": "code",
      "execution_count": null,
      "metadata": {
        "id": "vJ0gJBerxiZS"
      },
      "outputs": [],
      "source": [
        "penguin_data_imp_simple = dataset_simple_imputation(dataset = penguin_data, strategy=\"median\")"
      ]
    },
    {
      "cell_type": "code",
      "execution_count": null,
      "metadata": {
        "id": "myEq3sh0xiZS",
        "outputId": "0215e954-7997-467f-f789-5e2e6fa7c737",
        "colab": {
          "base_uri": "https://localhost:8080/",
          "height": 206
        }
      },
      "outputs": [
        {
          "output_type": "execute_result",
          "data": {
            "text/plain": [
              "  species     island  culmen_length_mm  culmen_depth_mm  flipper_length_mm  \\\n",
              "0  Adelie  Torgersen              39.1             18.7              181.0   \n",
              "1  Adelie  Torgersen              39.5             17.4              186.0   \n",
              "2  Adelie  Torgersen              40.3             18.0              195.0   \n",
              "3  Adelie  Torgersen               NaN              NaN                NaN   \n",
              "4  Adelie  Torgersen              36.7             19.3              193.0   \n",
              "\n",
              "   body_mass_g     sex  \n",
              "0       3750.0    MALE  \n",
              "1       3800.0  FEMALE  \n",
              "2       3250.0  FEMALE  \n",
              "3          NaN     NaN  \n",
              "4       3450.0  FEMALE  "
            ],
            "text/html": [
              "\n",
              "  <div id=\"df-379ae8ea-d8b4-438e-a700-71cb5cfa16d0\">\n",
              "    <div class=\"colab-df-container\">\n",
              "      <div>\n",
              "<style scoped>\n",
              "    .dataframe tbody tr th:only-of-type {\n",
              "        vertical-align: middle;\n",
              "    }\n",
              "\n",
              "    .dataframe tbody tr th {\n",
              "        vertical-align: top;\n",
              "    }\n",
              "\n",
              "    .dataframe thead th {\n",
              "        text-align: right;\n",
              "    }\n",
              "</style>\n",
              "<table border=\"1\" class=\"dataframe\">\n",
              "  <thead>\n",
              "    <tr style=\"text-align: right;\">\n",
              "      <th></th>\n",
              "      <th>species</th>\n",
              "      <th>island</th>\n",
              "      <th>culmen_length_mm</th>\n",
              "      <th>culmen_depth_mm</th>\n",
              "      <th>flipper_length_mm</th>\n",
              "      <th>body_mass_g</th>\n",
              "      <th>sex</th>\n",
              "    </tr>\n",
              "  </thead>\n",
              "  <tbody>\n",
              "    <tr>\n",
              "      <th>0</th>\n",
              "      <td>Adelie</td>\n",
              "      <td>Torgersen</td>\n",
              "      <td>39.1</td>\n",
              "      <td>18.7</td>\n",
              "      <td>181.0</td>\n",
              "      <td>3750.0</td>\n",
              "      <td>MALE</td>\n",
              "    </tr>\n",
              "    <tr>\n",
              "      <th>1</th>\n",
              "      <td>Adelie</td>\n",
              "      <td>Torgersen</td>\n",
              "      <td>39.5</td>\n",
              "      <td>17.4</td>\n",
              "      <td>186.0</td>\n",
              "      <td>3800.0</td>\n",
              "      <td>FEMALE</td>\n",
              "    </tr>\n",
              "    <tr>\n",
              "      <th>2</th>\n",
              "      <td>Adelie</td>\n",
              "      <td>Torgersen</td>\n",
              "      <td>40.3</td>\n",
              "      <td>18.0</td>\n",
              "      <td>195.0</td>\n",
              "      <td>3250.0</td>\n",
              "      <td>FEMALE</td>\n",
              "    </tr>\n",
              "    <tr>\n",
              "      <th>3</th>\n",
              "      <td>Adelie</td>\n",
              "      <td>Torgersen</td>\n",
              "      <td>NaN</td>\n",
              "      <td>NaN</td>\n",
              "      <td>NaN</td>\n",
              "      <td>NaN</td>\n",
              "      <td>NaN</td>\n",
              "    </tr>\n",
              "    <tr>\n",
              "      <th>4</th>\n",
              "      <td>Adelie</td>\n",
              "      <td>Torgersen</td>\n",
              "      <td>36.7</td>\n",
              "      <td>19.3</td>\n",
              "      <td>193.0</td>\n",
              "      <td>3450.0</td>\n",
              "      <td>FEMALE</td>\n",
              "    </tr>\n",
              "  </tbody>\n",
              "</table>\n",
              "</div>\n",
              "      <button class=\"colab-df-convert\" onclick=\"convertToInteractive('df-379ae8ea-d8b4-438e-a700-71cb5cfa16d0')\"\n",
              "              title=\"Convert this dataframe to an interactive table.\"\n",
              "              style=\"display:none;\">\n",
              "        \n",
              "  <svg xmlns=\"http://www.w3.org/2000/svg\" height=\"24px\"viewBox=\"0 0 24 24\"\n",
              "       width=\"24px\">\n",
              "    <path d=\"M0 0h24v24H0V0z\" fill=\"none\"/>\n",
              "    <path d=\"M18.56 5.44l.94 2.06.94-2.06 2.06-.94-2.06-.94-.94-2.06-.94 2.06-2.06.94zm-11 1L8.5 8.5l.94-2.06 2.06-.94-2.06-.94L8.5 2.5l-.94 2.06-2.06.94zm10 10l.94 2.06.94-2.06 2.06-.94-2.06-.94-.94-2.06-.94 2.06-2.06.94z\"/><path d=\"M17.41 7.96l-1.37-1.37c-.4-.4-.92-.59-1.43-.59-.52 0-1.04.2-1.43.59L10.3 9.45l-7.72 7.72c-.78.78-.78 2.05 0 2.83L4 21.41c.39.39.9.59 1.41.59.51 0 1.02-.2 1.41-.59l7.78-7.78 2.81-2.81c.8-.78.8-2.07 0-2.86zM5.41 20L4 18.59l7.72-7.72 1.47 1.35L5.41 20z\"/>\n",
              "  </svg>\n",
              "      </button>\n",
              "      \n",
              "  <style>\n",
              "    .colab-df-container {\n",
              "      display:flex;\n",
              "      flex-wrap:wrap;\n",
              "      gap: 12px;\n",
              "    }\n",
              "\n",
              "    .colab-df-convert {\n",
              "      background-color: #E8F0FE;\n",
              "      border: none;\n",
              "      border-radius: 50%;\n",
              "      cursor: pointer;\n",
              "      display: none;\n",
              "      fill: #1967D2;\n",
              "      height: 32px;\n",
              "      padding: 0 0 0 0;\n",
              "      width: 32px;\n",
              "    }\n",
              "\n",
              "    .colab-df-convert:hover {\n",
              "      background-color: #E2EBFA;\n",
              "      box-shadow: 0px 1px 2px rgba(60, 64, 67, 0.3), 0px 1px 3px 1px rgba(60, 64, 67, 0.15);\n",
              "      fill: #174EA6;\n",
              "    }\n",
              "\n",
              "    [theme=dark] .colab-df-convert {\n",
              "      background-color: #3B4455;\n",
              "      fill: #D2E3FC;\n",
              "    }\n",
              "\n",
              "    [theme=dark] .colab-df-convert:hover {\n",
              "      background-color: #434B5C;\n",
              "      box-shadow: 0px 1px 3px 1px rgba(0, 0, 0, 0.15);\n",
              "      filter: drop-shadow(0px 1px 2px rgba(0, 0, 0, 0.3));\n",
              "      fill: #FFFFFF;\n",
              "    }\n",
              "  </style>\n",
              "\n",
              "      <script>\n",
              "        const buttonEl =\n",
              "          document.querySelector('#df-379ae8ea-d8b4-438e-a700-71cb5cfa16d0 button.colab-df-convert');\n",
              "        buttonEl.style.display =\n",
              "          google.colab.kernel.accessAllowed ? 'block' : 'none';\n",
              "\n",
              "        async function convertToInteractive(key) {\n",
              "          const element = document.querySelector('#df-379ae8ea-d8b4-438e-a700-71cb5cfa16d0');\n",
              "          const dataTable =\n",
              "            await google.colab.kernel.invokeFunction('convertToInteractive',\n",
              "                                                     [key], {});\n",
              "          if (!dataTable) return;\n",
              "\n",
              "          const docLinkHtml = 'Like what you see? Visit the ' +\n",
              "            '<a target=\"_blank\" href=https://colab.research.google.com/notebooks/data_table.ipynb>data table notebook</a>'\n",
              "            + ' to learn more about interactive tables.';\n",
              "          element.innerHTML = '';\n",
              "          dataTable['output_type'] = 'display_data';\n",
              "          await google.colab.output.renderOutput(dataTable, element);\n",
              "          const docLink = document.createElement('div');\n",
              "          docLink.innerHTML = docLinkHtml;\n",
              "          element.appendChild(docLink);\n",
              "        }\n",
              "      </script>\n",
              "    </div>\n",
              "  </div>\n",
              "  "
            ]
          },
          "metadata": {},
          "execution_count": 18
        }
      ],
      "source": [
        "penguin_data_imp_simple.head()"
      ]
    },
    {
      "cell_type": "code",
      "execution_count": null,
      "metadata": {
        "id": "Cr5STo1YxiZS",
        "outputId": "6b8c4d7d-a3c5-4d13-f327-0f8f158da717",
        "colab": {
          "base_uri": "https://localhost:8080/"
        }
      },
      "outputs": [
        {
          "output_type": "stream",
          "name": "stdout",
          "text": [
            "<class 'pandas.core.frame.DataFrame'>\n",
            "RangeIndex: 344 entries, 0 to 343\n",
            "Data columns (total 7 columns):\n",
            " #   Column             Non-Null Count  Dtype  \n",
            "---  ------             --------------  -----  \n",
            " 0   species            344 non-null    object \n",
            " 1   island             344 non-null    object \n",
            " 2   culmen_length_mm   342 non-null    float64\n",
            " 3   culmen_depth_mm    342 non-null    float64\n",
            " 4   flipper_length_mm  342 non-null    float64\n",
            " 5   body_mass_g        342 non-null    float64\n",
            " 6   sex                334 non-null    object \n",
            "dtypes: float64(4), object(3)\n",
            "memory usage: 18.9+ KB\n"
          ]
        }
      ],
      "source": [
        "penguin_data_imp_simple.info()"
      ]
    },
    {
      "cell_type": "markdown",
      "metadata": {
        "id": "l_-Bf4RuxiZS"
      },
      "source": [
        "## Lets split the data into testing and training set"
      ]
    },
    {
      "cell_type": "code",
      "execution_count": null,
      "metadata": {
        "id": "-3quwqT1xiZS"
      },
      "outputs": [],
      "source": [
        "train, test = train_test_split(penguin_data_imp_simple, test_size=0.2, random_state=42)"
      ]
    },
    {
      "cell_type": "code",
      "execution_count": null,
      "metadata": {
        "id": "wTaM49BtxiZS",
        "outputId": "d6937cb7-5148-4f1b-fb03-b9804db9ad3b",
        "colab": {
          "base_uri": "https://localhost:8080/"
        }
      },
      "outputs": [
        {
          "output_type": "execute_result",
          "data": {
            "text/plain": [
              "(275, 7)"
            ]
          },
          "metadata": {},
          "execution_count": 21
        }
      ],
      "source": [
        "train.shape"
      ]
    },
    {
      "cell_type": "code",
      "execution_count": null,
      "metadata": {
        "id": "LuKyKwnqxiZT",
        "outputId": "d8747024-1e26-4238-8bce-dd1723767a01",
        "colab": {
          "base_uri": "https://localhost:8080/"
        }
      },
      "outputs": [
        {
          "output_type": "execute_result",
          "data": {
            "text/plain": [
              "(69, 7)"
            ]
          },
          "metadata": {},
          "execution_count": 22
        }
      ],
      "source": [
        "test.shape"
      ]
    },
    {
      "cell_type": "markdown",
      "metadata": {
        "id": "FclmsDHpxiZT"
      },
      "source": [
        "### Decision tree classifier: To predict the species of the penguin\n",
        "\n",
        "Target: species \\\n",
        "Features: all other columns in the dataframe"
      ]
    },
    {
      "cell_type": "code",
      "execution_count": null,
      "metadata": {
        "id": "m39QsCFexiZT"
      },
      "outputs": [],
      "source": [
        "features = [\"island\",\"culmen_length_mm\",\"culmen_depth_mm\",\"flipper_length_mm\",\"body_mass_g\",\"sex\"]\n",
        "target = \"species\""
      ]
    },
    {
      "cell_type": "code",
      "execution_count": null,
      "metadata": {
        "id": "6M8Ekd6JxiZT"
      },
      "outputs": [],
      "source": [
        "def fit_decision_tree_model_classifier(X_train, Y_train, **args):\n",
        "    #Fit and return the decision tree model\n",
        "\n",
        "    model = None\n",
        "\n",
        "    #Enter your code here\n",
        "    #--------------------\n",
        "\n",
        "    #--------------------\n",
        "    return model"
      ]
    },
    {
      "cell_type": "code",
      "execution_count": null,
      "metadata": {
        "id": "ypbvXrrsxiZT"
      },
      "outputs": [],
      "source": [
        "model_DT_class = fit_decision_tree_model_classifier(train[features],train[target], random_state = 42)"
      ]
    },
    {
      "cell_type": "markdown",
      "metadata": {
        "id": "2svBOajVxiZT"
      },
      "source": [
        "# Feature Importances"
      ]
    },
    {
      "cell_type": "code",
      "execution_count": null,
      "metadata": {
        "id": "ja8gaTTLxiZU"
      },
      "outputs": [],
      "source": [
        "def return_feature_imp(model, features):\n",
        "    #return feature importance of the fitted model\n",
        "\n",
        "    feature_imp = np.zeros_like(features)\n",
        "\n",
        "    if model == None:\n",
        "        print(\"Model not fitted yet\")\n",
        "        return feature_imp\n",
        "\n",
        "\n",
        "    #Enter your code here\n",
        "    #--------------------\n",
        "\n",
        "    #--------------------\n",
        "    return feature_imp"
      ]
    },
    {
      "cell_type": "code",
      "execution_count": null,
      "metadata": {
        "id": "KVL48bsbxiZU"
      },
      "outputs": [],
      "source": [
        "def plot_bar_graph(features, importance):\n",
        "    plt.figure(figsize = (10,3))\n",
        "    plt.bar(features , importance)\n",
        "    plt.title(\"Feature importance\")\n",
        "    plt.tight_layout()\n",
        "    return"
      ]
    },
    {
      "cell_type": "code",
      "execution_count": null,
      "metadata": {
        "id": "QNNkj9kGxiZU",
        "outputId": "8a156e3d-2ccd-4ac9-9d95-4373efb5d5b2",
        "colab": {
          "base_uri": "https://localhost:8080/",
          "height": 242
        }
      },
      "outputs": [
        {
          "output_type": "stream",
          "name": "stdout",
          "text": [
            "Model not fitted yet\n"
          ]
        },
        {
          "output_type": "display_data",
          "data": {
            "text/plain": [
              "<Figure size 720x216 with 1 Axes>"
            ],
            "image/png": "[encoded data removed]"
          },
          "metadata": {
            "needs_background": "light"
          }
        }
      ],
      "source": [
        "plot_bar_graph(features, return_feature_imp(model_DT_class, features))"
      ]
    },
    {
      "cell_type": "markdown",
      "metadata": {
        "id": "g_Z-hL9MxiZU"
      },
      "source": [
        "# Permutation importances"
      ]
    },
    {
      "cell_type": "code",
      "execution_count": null,
      "metadata": {
        "id": "DcEW07rmxiZU"
      },
      "outputs": [],
      "source": [
        "def return_permutation_imp(model, features, target, train, n_repeats, random_state, n_jobs):\n",
        "    #return feature importance of the fitted model\n",
        "\n",
        "    permutation_imp = np.zeros_like(features)\n",
        "\n",
        "    if model == None:\n",
        "        print(\"Model not fitted yet\")\n",
        "        return permutation_imp\n",
        "\n",
        "    #Enter your code here\n",
        "    #--------------------\n",
        "\n",
        "    #--------------------\n",
        "    return permutation_imp['importances_mean']"
      ]
    },
    {
      "cell_type": "code",
      "execution_count": null,
      "metadata": {
        "id": "uP3-kdx8xiZU",
        "outputId": "d5f2bd1b-2947-41cd-9350-fceb53de2f0a",
        "colab": {
          "base_uri": "https://localhost:8080/"
        }
      },
      "outputs": [
        {
          "output_type": "stream",
          "name": "stdout",
          "text": [
            "Model not fitted yet\n"
          ]
        }
      ],
      "source": [
        "importances = return_permutation_imp(model_DT_class, features, target, train, n_repeats = 10, random_state = 42, n_jobs = 2)"
      ]
    },
    {
      "cell_type": "code",
      "execution_count": null,
      "metadata": {
        "id": "JNknfZGDxiZU",
        "outputId": "be072896-055e-4900-a972-3f0e1965d5bb",
        "colab": {
          "base_uri": "https://localhost:8080/"
        }
      },
      "outputs": [
        {
          "output_type": "stream",
          "name": "stdout",
          "text": [
            "['' '' '' '' '' '']\n"
          ]
        }
      ],
      "source": [
        "print(importances)"
      ]
    },
    {
      "cell_type": "code",
      "execution_count": null,
      "metadata": {
        "id": "HUzEfMv2xiZV",
        "outputId": "5abb95b4-fc47-4924-9068-5f037f44850b",
        "colab": {
          "base_uri": "https://localhost:8080/",
          "height": 225
        }
      },
      "outputs": [
        {
          "output_type": "display_data",
          "data": {
            "text/plain": [
              "<Figure size 720x216 with 1 Axes>"
            ],
            "image/png": "[encoded data removed]"
          },
          "metadata": {
            "needs_background": "light"
          }
        }
      ],
      "source": [
        "#Plotting the bar graph of feature importances\n",
        "\n",
        "plot_bar_graph(features, importances)"
      ]
    },
    {
      "cell_type": "code",
      "execution_count": null,
      "metadata": {
        "id": "hXGW-xJkxiZV"
      },
      "outputs": [],
      "source": [
        "def predictions(model,X_test):\n",
        "    #Make predictions using the fitted model\n",
        "\n",
        "    y_pred = np.zeros((len(X_test), 1))\n",
        "\n",
        "    #Enter your code here\n",
        "    #--------------------\n",
        "\n",
        "    #--------------------\n",
        "    return y_pred"
      ]
    },
    {
      "cell_type": "code",
      "execution_count": null,
      "metadata": {
        "id": "8HyU_cKExiZV"
      },
      "outputs": [],
      "source": [
        "y_pred = predictions(model_DT_class, test[features])"
      ]
    },
    {
      "cell_type": "code",
      "execution_count": null,
      "metadata": {
        "id": "1-Bfcm74xiZV"
      },
      "outputs": [],
      "source": [
        "def return_class_metrics(y_pred, y):\n",
        "    #return classification_report and confusion matrix\n",
        "\n",
        "    report = []\n",
        "    conf_matrix = []\n",
        "\n",
        "    #Enter your code here\n",
        "    #--------------------\n",
        "\n",
        "    #--------------------\n",
        "    return report, conf_matrix"
      ]
    },
    {
      "cell_type": "code",
      "execution_count": null,
      "metadata": {
        "id": "qph2pMpgxiZV"
      },
      "outputs": [],
      "source": [
        "report, conf_matrix = return_class_metrics(y_pred, test[\"species\"])"
      ]
    },
    {
      "cell_type": "code",
      "execution_count": null,
      "metadata": {
        "id": "wQAK3-AfxiZV",
        "outputId": "8a3c2f57-b75d-4e91-ffb0-12778f1431f2",
        "colab": {
          "base_uri": "https://localhost:8080/"
        }
      },
      "outputs": [
        {
          "output_type": "stream",
          "name": "stdout",
          "text": [
            "[]\n"
          ]
        }
      ],
      "source": [
        "print(report)"
      ]
    },
    {
      "cell_type": "code",
      "execution_count": null,
      "metadata": {
        "id": "vQmohuL7xiZV",
        "outputId": "cbcabca3-58d5-4c89-c954-7081afaae181",
        "colab": {
          "base_uri": "https://localhost:8080/"
        }
      },
      "outputs": [
        {
          "output_type": "execute_result",
          "data": {
            "text/plain": [
              "[]"
            ]
          },
          "metadata": {},
          "execution_count": 38
        }
      ],
      "source": [
        "conf_matrix"
      ]
    },
    {
      "cell_type": "markdown",
      "metadata": {
        "id": "omXi6em4xiZV"
      },
      "source": [
        "## Visualizing the decision tree"
      ]
    },
    {
      "cell_type": "code",
      "execution_count": null,
      "metadata": {
        "id": "MbOa96OYxiZW",
        "outputId": "5187c510-945a-48a2-9c67-d22de3e1ad91",
        "colab": {
          "base_uri": "https://localhost:8080/",
          "height": 52
        }
      },
      "outputs": [
        {
          "output_type": "stream",
          "name": "stdout",
          "text": [
            "Model not fitted yet\n"
          ]
        },
        {
          "output_type": "display_data",
          "data": {
            "text/plain": [
              "<Figure size 1800x1800 with 0 Axes>"
            ]
          },
          "metadata": {}
        }
      ],
      "source": [
        "plt.figure(figsize=(6,6),dpi=300)\n",
        "\n",
        "if model_DT_class==None:\n",
        "    print(\"Model not fitted yet\")\n",
        "\n",
        "else:\n",
        "    tree.plot_tree(model_DT_class, filled=True, feature_names=[\"island\",\"culmen_length_mm\",\"culmen_depth_mm\",\"flipper_length_mm\",\"body_mass_g\",\"sex\"], class_names=species);"
      ]
    },
    {
      "cell_type": "markdown",
      "metadata": {
        "id": "nh91HfUGxiZW"
      },
      "source": [
        "## Visualizing the decision boundaries"
      ]
    },
    {
      "cell_type": "code",
      "execution_count": null,
      "metadata": {
        "id": "dMnKdX0GxiZW",
        "outputId": "890d7a51-8667-4c3b-e28d-5e052cf1ae1b",
        "colab": {
          "base_uri": "https://localhost:8080/",
          "height": 52
        }
      },
      "outputs": [
        {
          "output_type": "stream",
          "name": "stdout",
          "text": [
            "Model not fitted yet\n"
          ]
        },
        {
          "output_type": "display_data",
          "data": {
            "text/plain": [
              "<Figure size 360x360 with 0 Axes>"
            ]
          },
          "metadata": {}
        }
      ],
      "source": [
        "plt.figure(figsize=(5,5))\n",
        "\n",
        "if model_DT_class==None:\n",
        "    print(\"Model not fitted yet\")\n",
        "\n",
        "else:\n",
        "\n",
        "    scatter_kwargs = {'s': 100, 'edgecolor': None, 'alpha': 0.7}\n",
        "    contourf_kwargs = {'alpha': 0.2}\n",
        "    scatter_highlight_kwargs = {'s': 50, 'label': 'Test data', 'alpha': 0.7}\n",
        "\n",
        "    fig = plot_decision_regions(X=train[[\"island\",\"culmen_length_mm\",\"culmen_depth_mm\",\"flipper_length_mm\",\"body_mass_g\",\"sex\"]].values, y = train[\"species\"].astype(int).values,\n",
        "                                    feature_index=[0,1],\n",
        "                                    filler_feature_values={2: 17, 3:180, 4:3000, 5:1},\n",
        "                                    filler_feature_ranges={2: 10, 3:50, 4:1000, 5:3}, clf=model_DT_class,\n",
        "                                    scatter_kwargs=scatter_kwargs,\n",
        "                                    contourf_kwargs=contourf_kwargs,\n",
        "                                    scatter_highlight_kwargs=scatter_highlight_kwargs,\n",
        "                                    X_highlight=test[[\"island\",\"culmen_length_mm\",\"culmen_depth_mm\",\"flipper_length_mm\",\"body_mass_g\",\"sex\"]].values)\n",
        "\n",
        "    plt.xlabel(\"island\")\n",
        "    plt.ylabel(\"culmen_length_mm\")\n",
        "    plt.title(\"Decision Tree Model\")\n",
        "    plt.show()"
      ]
    },
    {
      "cell_type": "markdown",
      "metadata": {
        "id": "Mbx5EUBBxiZW"
      },
      "source": [
        "## Lets tune the hyperparameters of the classifier using GridSearchCV"
      ]
    },
    {
      "cell_type": "code",
      "execution_count": null,
      "metadata": {
        "id": "3cniks2HxiZW"
      },
      "outputs": [],
      "source": [
        "def best_params(model, param_grid, scoring, cv, X_train, Y_train):\n",
        "    #Return the best hyperparameters and the fitted model\n",
        "\n",
        "    params = None\n",
        "    grid_model = None\n",
        "\n",
        "    #Enter your code here\n",
        "    #--------------------\n",
        "\n",
        "    #--------------------\n",
        "    return grid_model, params"
      ]
    },
    {
      "cell_type": "code",
      "execution_count": null,
      "metadata": {
        "id": "bM1RKZosxiZW"
      },
      "outputs": [],
      "source": [
        "param_grid = {\"splitter\":[\"best\", \"random\"],\n",
        "              \"max_features\":[\"log2\", 2, 3, 4, 5, 6],\n",
        "              \"max_depth\": [2, 3, 4, 5, 6],\n",
        "              \"min_samples_leaf\": [1, 2, 3],\n",
        "              \"min_samples_split\": [2, 3, 4, 5]}\n",
        "\n",
        "model = DecisionTreeClassifier(random_state=42)\n",
        "\n",
        "### Note: Discard the feature with least importance factor and use only the remaining features\n",
        "\n",
        "grid_model, params = best_params(model, param_grid, scoring='f1_macro', cv = 5, X_train=train[features], Y_train = train[\"species\"])"
      ]
    },
    {
      "cell_type": "code",
      "execution_count": null,
      "metadata": {
        "id": "-jHBV7cAxiZX",
        "outputId": "c8aebe01-5867-4d7b-e1b3-506141bf1443",
        "colab": {
          "base_uri": "https://localhost:8080/"
        }
      },
      "outputs": [
        {
          "output_type": "stream",
          "name": "stdout",
          "text": [
            "None\n"
          ]
        }
      ],
      "source": [
        "print(params)"
      ]
    },
    {
      "cell_type": "code",
      "execution_count": null,
      "metadata": {
        "id": "HhHW4Sr0xiZX"
      },
      "outputs": [],
      "source": [
        "y_pred = predictions(grid_model, test[features])"
      ]
    },
    {
      "cell_type": "code",
      "execution_count": null,
      "metadata": {
        "id": "FmR3mDJCxiZX"
      },
      "outputs": [],
      "source": [
        "report, conf_matrix = return_class_metrics(y_pred, test[\"species\"])"
      ]
    },
    {
      "cell_type": "code",
      "execution_count": null,
      "metadata": {
        "id": "8rrnYXrhxiZX",
        "outputId": "726d8cf8-408e-48e9-c4af-cf78d8eb5e46",
        "colab": {
          "base_uri": "https://localhost:8080/"
        }
      },
      "outputs": [
        {
          "output_type": "stream",
          "name": "stdout",
          "text": [
            "[]\n"
          ]
        }
      ],
      "source": [
        "print(report)"
      ]
    },
    {
      "cell_type": "code",
      "execution_count": null,
      "metadata": {
        "id": "UndE4Aa6xiZX",
        "outputId": "2e51eea9-e13e-4f1e-8e45-6d025757d4f0",
        "colab": {
          "base_uri": "https://localhost:8080/"
        }
      },
      "outputs": [
        {
          "output_type": "execute_result",
          "data": {
            "text/plain": [
              "[]"
            ]
          },
          "metadata": {},
          "execution_count": 47
        }
      ],
      "source": [
        "conf_matrix"
      ]
    },
    {
      "cell_type": "markdown",
      "metadata": {
        "id": "D_qoO6wTxiZX"
      },
      "source": [
        "<hr>\n",
        "\n",
        "# Part 2: Random forests\n",
        "\n",
        "<hr>"
      ]
    },
    {
      "cell_type": "markdown",
      "metadata": {
        "id": "TLO7INnuxiZX"
      },
      "source": [
        "## Ensemble of decision trees for classification and regression task"
      ]
    },
    {
      "cell_type": "markdown",
      "metadata": {
        "id": "0o7cgI-fxiZX"
      },
      "source": [
        "### Random Forest Classifier\n",
        "\n",
        "To predict the species of penguin"
      ]
    },
    {
      "cell_type": "markdown",
      "metadata": {
        "id": "eNMiFBKtxiZY"
      },
      "source": [
        "# Lets build Random Forest from Decision trees"
      ]
    },
    {
      "cell_type": "code",
      "execution_count": null,
      "metadata": {
        "id": "kTOMe8uIxiZY"
      },
      "outputs": [],
      "source": [
        "def sampling_with_replacement(data, weights, num_of_samples, seed):\n",
        "    #note: reset the indices of the sample dataframe when returning\n",
        "\n",
        "    sample = None\n",
        "\n",
        "    #Enter your code here\n",
        "    #--------------------\n",
        "\n",
        "    #--------------------\n",
        "    return sample"
      ]
    },
    {
      "cell_type": "code",
      "execution_count": null,
      "metadata": {
        "id": "B5soJGqmxiZY"
      },
      "outputs": [],
      "source": [
        "def sampling_without_replacement(data, weights, num_of_samples, seed):\n",
        "    #note: reset the indices of the sample dataframe when returning\n",
        "\n",
        "    sample = None\n",
        "\n",
        "    #Enter your code here\n",
        "    #--------------------\n",
        "\n",
        "    #--------------------\n",
        "    return sample"
      ]
    },
    {
      "cell_type": "markdown",
      "metadata": {
        "id": "l4xxe4vTxiZY"
      },
      "source": [
        "## using BaggingClassifier"
      ]
    },
    {
      "cell_type": "code",
      "execution_count": null,
      "metadata": {
        "id": "u2q3sXPdxiZY"
      },
      "outputs": [],
      "source": [
        "from sklearn.ensemble import BaggingClassifier\n",
        "def RF_model_bagging(X_train, y_train, **args):\n",
        "    #Fit model using BaggingClassifier\n",
        "\n",
        "    model = None\n",
        "\n",
        "    #Enter your code here\n",
        "    #----------------------------\n",
        "\n",
        "    #----------------------------\n",
        "    return model"
      ]
    },
    {
      "cell_type": "code",
      "execution_count": null,
      "metadata": {
        "id": "gScJp0itxiZY"
      },
      "outputs": [],
      "source": [
        "model = RF_model_bagging(train[features], train[target], base_estimator=DecisionTreeClassifier(), n_estimators=5, random_state= 42 )"
      ]
    },
    {
      "cell_type": "code",
      "execution_count": null,
      "metadata": {
        "id": "rdlK6ssZxiZY",
        "outputId": "0bc7f5ab-6188-4d9f-8790-d37d1a2da3f9",
        "colab": {
          "base_uri": "https://localhost:8080/"
        }
      },
      "outputs": [
        {
          "output_type": "stream",
          "name": "stdout",
          "text": [
            "Model is not fitted yet\n"
          ]
        }
      ],
      "source": [
        "if model==None:\n",
        "    print(\"Model is not fitted yet\")\n",
        "else:\n",
        "    y_pred = model.predict(test[features])"
      ]
    },
    {
      "cell_type": "code",
      "execution_count": null,
      "metadata": {
        "id": "fcB5OiaLxiZY"
      },
      "outputs": [],
      "source": [
        "report, conf_matrix = return_class_metrics(y_pred, test[\"species\"])"
      ]
    },
    {
      "cell_type": "code",
      "execution_count": null,
      "metadata": {
        "id": "Bd21jXoexiZY",
        "outputId": "fdc02e2a-83ed-4176-8fda-d2c6e6f36f19",
        "colab": {
          "base_uri": "https://localhost:8080/"
        }
      },
      "outputs": [
        {
          "output_type": "stream",
          "name": "stdout",
          "text": [
            "[]\n"
          ]
        }
      ],
      "source": [
        "print(report)"
      ]
    },
    {
      "cell_type": "code",
      "execution_count": null,
      "metadata": {
        "id": "HuypNO1rxiZZ",
        "outputId": "10f4a1a4-670f-4d4e-e2c1-2f4de9919452",
        "colab": {
          "base_uri": "https://localhost:8080/"
        }
      },
      "outputs": [
        {
          "output_type": "execute_result",
          "data": {
            "text/plain": [
              "[]"
            ]
          },
          "metadata": {},
          "execution_count": 55
        }
      ],
      "source": [
        "conf_matrix"
      ]
    },
    {
      "cell_type": "markdown",
      "metadata": {
        "id": "R6Xl2J2WxiZZ"
      },
      "source": [
        "### Point to probe: Are we doing better or worse by using the ensemble when compared with just a decision tree classifier model?"
      ]
    },
    {
      "cell_type": "markdown",
      "metadata": {
        "id": "QB9sz4eFxiZZ"
      },
      "source": [
        "## From scratch using decision trees"
      ]
    },
    {
      "cell_type": "code",
      "execution_count": null,
      "metadata": {
        "id": "8J2ReRRVxiZZ"
      },
      "outputs": [],
      "source": [
        "def random_forest(sampling, dataset , num_trees=5, seed = [1,2,3,4,5], max_depth = 5):\n",
        "    #return a list of fitted decision tree models\n",
        "    #use random_state during sampling and fitting the models as a list of array passed as seed\n",
        "\n",
        "    model_list = []\n",
        "\n",
        "    #Enter your code here\n",
        "    #--------------------\n",
        "\n",
        "    #--------------------\n",
        "\n",
        "    return model_list"
      ]
    },
    {
      "cell_type": "code",
      "execution_count": null,
      "metadata": {
        "id": "2dg9_XdmxiZZ"
      },
      "outputs": [],
      "source": [
        "def make_prediction_RF(X_test, model_list):\n",
        "    #return the predictions as hard vote from the fitted decision tree models\n",
        "\n",
        "    prediction = []\n",
        "\n",
        "    #Enter your code here\n",
        "    #--------------------\n",
        "\n",
        "    #--------------------\n",
        "    return prediction"
      ]
    },
    {
      "cell_type": "code",
      "execution_count": null,
      "metadata": {
        "id": "Cfj1m6mNxiZZ"
      },
      "outputs": [],
      "source": [
        "num_trees = 10\n",
        "seed = np.arange(1,num_trees+1,1)\n",
        "model_list =  random_forest(sampling=\"with_replacement\", dataset=train, num_trees=num_trees, seed = seed, max_depth=None)\n",
        "y_pred = make_prediction_RF(test[features], model_list)\n",
        "report, conf_matrix = return_class_metrics(y_pred, test[\"species\"])"
      ]
    },
    {
      "cell_type": "code",
      "execution_count": null,
      "metadata": {
        "id": "eD-F0ji4xiZZ",
        "outputId": "1c5d08eb-4798-4ab2-be42-c4508c183396",
        "colab": {
          "base_uri": "https://localhost:8080/"
        }
      },
      "outputs": [
        {
          "output_type": "stream",
          "name": "stdout",
          "text": [
            "[]\n"
          ]
        }
      ],
      "source": [
        "print(report)"
      ]
    },
    {
      "cell_type": "code",
      "execution_count": null,
      "metadata": {
        "id": "TueHfpp-xiZZ",
        "outputId": "59e79a39-3f70-4543-bd04-e82602ccb159",
        "colab": {
          "base_uri": "https://localhost:8080/"
        }
      },
      "outputs": [
        {
          "output_type": "execute_result",
          "data": {
            "text/plain": [
              "[]"
            ]
          },
          "metadata": {},
          "execution_count": 60
        }
      ],
      "source": [
        "conf_matrix"
      ]
    },
    {
      "cell_type": "markdown",
      "metadata": {
        "id": "ITwMjOK1xiZZ"
      },
      "source": [
        "# Random Forest using sklearn"
      ]
    },
    {
      "cell_type": "code",
      "execution_count": null,
      "metadata": {
        "id": "Xr_VjaPfxiZa"
      },
      "outputs": [],
      "source": [
        "def fit_random_forest_classifier(X_train, Y_train, **args):\n",
        "    #Fit and return the random forest model (use sklearn)\n",
        "\n",
        "    model = None\n",
        "\n",
        "    #Enter your code here\n",
        "    #--------------------\n",
        "\n",
        "    #--------------------\n",
        "    return model"
      ]
    },
    {
      "cell_type": "code",
      "execution_count": null,
      "metadata": {
        "id": "GtHylkgexiZa"
      },
      "outputs": [],
      "source": [
        "target_classification = train[\"species\"]\n",
        "model_RF_class = fit_random_forest_classifier(train[features], target_classification, random_state = 42, n_estimators=5)"
      ]
    },
    {
      "cell_type": "code",
      "execution_count": null,
      "metadata": {
        "id": "XWIAFpUCxiZa"
      },
      "outputs": [],
      "source": [
        "y_pred = predictions(model_RF_class, test[features])"
      ]
    },
    {
      "cell_type": "code",
      "execution_count": null,
      "metadata": {
        "id": "TWwyPJ9VxiZa"
      },
      "outputs": [],
      "source": [
        "report, conf_matrix = return_class_metrics(y_pred, test[\"species\"])"
      ]
    },
    {
      "cell_type": "code",
      "execution_count": null,
      "metadata": {
        "id": "j8jFWNdfxiZa",
        "outputId": "8940bedf-aef7-49cc-ddf8-c17bcf570473",
        "colab": {
          "base_uri": "https://localhost:8080/"
        }
      },
      "outputs": [
        {
          "output_type": "stream",
          "name": "stdout",
          "text": [
            "[]\n"
          ]
        }
      ],
      "source": [
        "print(report)"
      ]
    },
    {
      "cell_type": "code",
      "execution_count": null,
      "metadata": {
        "id": "RRnNwNedxiZa",
        "outputId": "3451f303-795b-495f-f496-2c78d77b29bb",
        "colab": {
          "base_uri": "https://localhost:8080/"
        }
      },
      "outputs": [
        {
          "output_type": "execute_result",
          "data": {
            "text/plain": [
              "[]"
            ]
          },
          "metadata": {},
          "execution_count": 66
        }
      ],
      "source": [
        "conf_matrix"
      ]
    },
    {
      "cell_type": "code",
      "execution_count": null,
      "metadata": {
        "id": "bhDcl-aMxiZa",
        "outputId": "fcbae68d-05a9-417d-c246-0fa34e31b849",
        "colab": {
          "base_uri": "https://localhost:8080/"
        }
      },
      "outputs": [
        {
          "output_type": "stream",
          "name": "stdout",
          "text": [
            "Model not fitted yet\n"
          ]
        }
      ],
      "source": [
        "if model_RF_class == None:\n",
        "    print(\"Model not fitted yet\")\n",
        "\n",
        "\n",
        "else:\n",
        "    plt.figure(figsize=(5,5))\n",
        "\n",
        "    scatter_kwargs = {'s': 100, 'edgecolor': None, 'alpha': 0.7}\n",
        "    contourf_kwargs = {'alpha': 0.2}\n",
        "    scatter_highlight_kwargs = {'s': 50, 'label': 'Test data', 'alpha': 0.7}\n",
        "\n",
        "    fig = plot_decision_regions(X=train[[\"island\",\"culmen_length_mm\",\"culmen_depth_mm\",\"flipper_length_mm\",\"body_mass_g\",\"sex\"]].values, y = train[\"species\"].astype(int).values,\n",
        "                                    feature_index=[0,1],\n",
        "                                    filler_feature_values={2: 17, 3:180, 4:3000, 5:1},\n",
        "                                    filler_feature_ranges={2: 10, 3:50, 4:1000, 5:2}, clf=model_RF_class,\n",
        "                                    scatter_kwargs=scatter_kwargs,\n",
        "                                    contourf_kwargs=contourf_kwargs,\n",
        "                                    scatter_highlight_kwargs=scatter_highlight_kwargs,\n",
        "                                    X_highlight=test[[\"island\",\"culmen_length_mm\",\"culmen_depth_mm\",\"flipper_length_mm\",\"body_mass_g\",\"sex\"]].values)\n",
        "\n",
        "    plt.xlabel(\"island\")\n",
        "    plt.ylabel(\"culmen_length_mm\")\n",
        "    plt.title(\"Random Forest Model\")\n",
        "    plt.show()"
      ]
    },
    {
      "cell_type": "markdown",
      "metadata": {
        "id": "R4DPzWzixiZa"
      },
      "source": [
        "## Plot ROC curve for the decision tree and random forest classsifier models"
      ]
    },
    {
      "cell_type": "code",
      "execution_count": null,
      "metadata": {
        "id": "qLdfSYvvxiZa"
      },
      "outputs": [],
      "source": [
        "def plot_auc_roc(model_DT_class, model_RF_class, X_test, y_test):\n",
        "    #Plot ROC for both decision tree and random forest classifier models\n",
        "\n",
        "    #plot separately for both decision tree and random forest models, also plot all three classes\n",
        "\n",
        "    #Enter your code\n",
        "    #------------------------\n",
        "\n",
        "\n",
        "    #------------------------\n",
        "    return"
      ]
    },
    {
      "cell_type": "code",
      "execution_count": null,
      "metadata": {
        "id": "TlzFfsGTxiZb"
      },
      "outputs": [],
      "source": [
        "plot_auc_roc(model_DT_class, model_RF_class, test[features], test[target])"
      ]
    },
    {
      "cell_type": "markdown",
      "metadata": {
        "id": "5dteWuFSxiZb"
      },
      "source": [
        "<hr>\n",
        "\n",
        "# Part 3: Boosting\n",
        "\n",
        "<hr>"
      ]
    },
    {
      "cell_type": "markdown",
      "metadata": {
        "id": "hkxJUaZfxiZb"
      },
      "source": [
        "# Adaboost"
      ]
    },
    {
      "cell_type": "markdown",
      "metadata": {
        "id": "E6GBu4KVxiZb"
      },
      "source": [
        "# From scratch using Decision trees for a binary classification problem"
      ]
    },
    {
      "cell_type": "markdown",
      "metadata": {
        "id": "sk6PqeS-xiZb"
      },
      "source": [
        "![AdaBoost](https://www.dropbox.com/s/qn4l50euemas745/adaboost_algo.png?dl=1 \"Algorithm\")"
      ]
    },
    {
      "cell_type": "code",
      "execution_count": null,
      "metadata": {
        "id": "7jOy3GBWxiZb",
        "outputId": "dd9b8387-ceb5-463f-ee2e-51dd12767545",
        "colab": {
          "base_uri": "https://localhost:8080/"
        }
      },
      "outputs": [
        {
          "output_type": "stream",
          "name": "stdout",
          "text": [
            "Perform imputation and then proceed\n"
          ]
        }
      ],
      "source": [
        "#considering only two classes\n",
        "try:\n",
        "    dataset = penguin_data_imp_simple[(penguin_data_imp_simple['species'] == 0) | (penguin_data_imp_simple['species'] == 1)]\n",
        "    dataset['species'] = dataset['species'].replace(0, -1)  #replacing class label 0 by -1\n",
        "    train_binary, test_binary = train_test_split (dataset, test_size = 0.3)\n",
        "\n",
        "except:\n",
        "    print(\"Perform imputation and then proceed\")"
      ]
    },
    {
      "cell_type": "code",
      "execution_count": null,
      "metadata": {
        "id": "mTUGxWNcxiZb"
      },
      "outputs": [],
      "source": [
        "def ada_boost_algo(sampling=\"without_replacement\", dataset= penguin_data, num_iter=10):\n",
        "\n",
        "    model_list = []\n",
        "    model_weight = []\n",
        "\n",
        "    #Enter your code here\n",
        "    #-------------------------\n",
        "\n",
        "    #-------------------------\n",
        "    return model_list, model_weight"
      ]
    },
    {
      "cell_type": "code",
      "execution_count": null,
      "metadata": {
        "id": "xNIcD76jxiZb",
        "outputId": "c088096c-efed-49f8-ac80-c395f3013077",
        "colab": {
          "base_uri": "https://localhost:8080/"
        }
      },
      "outputs": [
        {
          "output_type": "stream",
          "name": "stdout",
          "text": [
            "Oops....Something went wrong\n"
          ]
        }
      ],
      "source": [
        "try:\n",
        "    model_list, model_weight = ada_boost_algo(sampling=\"without_replacement\", dataset=train_binary, num_iter=20)\n",
        "except:\n",
        "    print(\"Oops....Something went wrong\")"
      ]
    },
    {
      "cell_type": "code",
      "execution_count": null,
      "metadata": {
        "id": "VVyV7EbyxiZc"
      },
      "outputs": [],
      "source": [
        "def make_prediction(X_test, model_list, model_weight):\n",
        "    # Make predictions using the fitted model and model weights. Use hard voting.\n",
        "\n",
        "    pred = []\n",
        "\n",
        "    #Enter your code here\n",
        "    #-------------------------\n",
        "\n",
        "    #-------------------------\n",
        "    return pred"
      ]
    },
    {
      "cell_type": "code",
      "execution_count": null,
      "metadata": {
        "id": "dAMSSO_oxiZc",
        "outputId": "7be38262-682a-4288-d79b-24110c4108dc",
        "colab": {
          "base_uri": "https://localhost:8080/"
        }
      },
      "outputs": [
        {
          "output_type": "stream",
          "name": "stdout",
          "text": [
            "Oops....Something went wrong\n"
          ]
        }
      ],
      "source": [
        "try:\n",
        "    y_pred = make_prediction(test_binary[features] , model_list, model_weight)\n",
        "    print(classification_report(test_binary[target] , y_pred))\n",
        "    confusion_matrix(test_binary[target] , y_pred)\n",
        "except:\n",
        "    print(\"Oops....Something went wrong\")"
      ]
    },
    {
      "cell_type": "markdown",
      "metadata": {
        "id": "x3uVSSSYxiZc"
      },
      "source": [
        "# Using sklearn"
      ]
    },
    {
      "cell_type": "code",
      "execution_count": null,
      "metadata": {
        "id": "Rqz39zVCxiZc"
      },
      "outputs": [],
      "source": [
        "from sklearn.ensemble import AdaBoostClassifier"
      ]
    },
    {
      "cell_type": "code",
      "execution_count": null,
      "metadata": {
        "id": "dlWok65jxiZc",
        "outputId": "73a96d15-0329-4170-d304-c5ce7e40e0e9",
        "colab": {
          "base_uri": "https://localhost:8080/"
        }
      },
      "outputs": [
        {
          "output_type": "stream",
          "name": "stdout",
          "text": [
            "Oops...Something went wrong\n"
          ]
        }
      ],
      "source": [
        "try:\n",
        "    model = AdaBoostClassifier(random_state=42, algorithm=\"SAMME\", n_estimators=20)\n",
        "    model.fit(train_binary[features], train_binary[target])\n",
        "    predictions = model.predict(test_binary[features])\n",
        "    report, conf_matrix = return_class_metrics(test_binary[target], predictions)\n",
        "    print(report)\n",
        "    print(conf_matrix)\n",
        "except:\n",
        "    print(\"Oops...Something went wrong\")"
      ]
    },
    {
      "cell_type": "markdown",
      "metadata": {
        "id": "VEC-XwmnxiZc"
      },
      "source": [
        "# Gradient Boosting"
      ]
    },
    {
      "cell_type": "code",
      "execution_count": null,
      "metadata": {
        "id": "B1EKfl58xiZc"
      },
      "outputs": [],
      "source": [
        "from sklearn.ensemble import GradientBoostingRegressor\n",
        "from sklearn.metrics import mean_squared_error, mean_absolute_error"
      ]
    },
    {
      "cell_type": "code",
      "execution_count": null,
      "metadata": {
        "id": "4YooclucxiZc",
        "outputId": "d9523030-a71b-4d93-cf48-28ab8c9d3461",
        "colab": {
          "base_uri": "https://localhost:8080/"
        }
      },
      "outputs": [
        {
          "output_type": "stream",
          "name": "stdout",
          "text": [
            "Oops...Something went wrong\n"
          ]
        }
      ],
      "source": [
        "try:\n",
        "    model = GradientBoostingRegressor(random_state=42)\n",
        "    model.fit(train[[\"island\",\"culmen_length_mm\",\"culmen_depth_mm\",\"flipper_length_mm\",\"species\",\"sex\"]], train[\"body_mass_g\"])\n",
        "    predictions = model.predict(test[[\"island\",\"culmen_length_mm\",\"culmen_depth_mm\",\"flipper_length_mm\",\"species\",\"sex\"]])\n",
        "    print(mean_squared_error(predictions, test[\"body_mass_g\"]))\n",
        "    print(mean_absolute_error(predictions, test[\"body_mass_g\"]))\n",
        "except:\n",
        "    print(\"Oops...Something went wrong\")"
      ]
    },
    {
      "cell_type": "markdown",
      "metadata": {
        "id": "v7crBNp-xiZc"
      },
      "source": [
        "# Regularization"
      ]
    },
    {
      "cell_type": "code",
      "execution_count": null,
      "metadata": {
        "id": "imsTWuQRxiZd"
      },
      "outputs": [],
      "source": [
        "param_list = [{\"learning_rate\": 0.05, \"subsample\": 0.25, \"max_depth\":2},\n",
        "            {\"learning_rate\": 0.05, \"subsample\": 0.25, \"max_depth\":8},\n",
        "            {\"learning_rate\": 0.1, \"subsample\": 0.25, \"max_depth\":10},\n",
        "            {\"learning_rate\": 0.5, \"subsample\": 0.75, \"max_depth\":10}]\n",
        "\n",
        "def plot_squared_error_stagewise(param_list):\n",
        "    #Plotting the stagewise loss for gradient boosting regressor model with different parameter values\n",
        "    #Regularization\n",
        "\n",
        "    #Enter your code\n",
        "    #-------------------\n",
        "\n",
        "    #-------------------\n",
        "    return"
      ]
    },
    {
      "cell_type": "markdown",
      "metadata": {
        "id": "H6rmMX2ixiZd"
      },
      "source": [
        "# Hyperparameter tuning using gridsearchCV"
      ]
    },
    {
      "cell_type": "code",
      "execution_count": null,
      "metadata": {
        "id": "fS_ggqEwxiZd"
      },
      "outputs": [],
      "source": [
        "param_grid = {\"n_estimators\":[10, 30, 50, 100],\n",
        "              \"learning_rate\":[0.01, 0.05, 0.1, 1, 1.5, 2],\n",
        "              \"loss\":[\"squared_error\", \"absolute_error\", \"huber\", \"quantile\"]}\n",
        "\n",
        "model = GradientBoostingRegressor(random_state=42)\n",
        "\n",
        "grid_model, params = best_params(model, param_grid, scoring='neg_mean_squared_error', cv = 10, X_train=train[[\"island\",\"culmen_length_mm\",\"culmen_depth_mm\",\"flipper_length_mm\",\"species\",\"sex\"]], Y_train = train[\"body_mass_g\"])"
      ]
    },
    {
      "cell_type": "code",
      "execution_count": null,
      "metadata": {
        "id": "FpExl3GzxiZd",
        "outputId": "26c9078c-d6b6-4ce6-8bc9-6c8ea9cda995",
        "colab": {
          "base_uri": "https://localhost:8080/"
        }
      },
      "outputs": [
        {
          "output_type": "stream",
          "name": "stdout",
          "text": [
            "None\n"
          ]
        }
      ],
      "source": [
        "print(params)"
      ]
    },
    {
      "cell_type": "code",
      "execution_count": null,
      "metadata": {
        "id": "u6dmRQfrxiZd",
        "outputId": "daa67acc-ed86-4c49-ae64-2f2b66420f2b",
        "colab": {
          "base_uri": "https://localhost:8080/"
        }
      },
      "outputs": [
        {
          "output_type": "stream",
          "name": "stdout",
          "text": [
            "Oops...something went wrong\n"
          ]
        }
      ],
      "source": [
        "try:\n",
        "    predictions = grid_model.predict(test[[\"island\",\"culmen_length_mm\",\"culmen_depth_mm\",\"flipper_length_mm\",\"species\",\"sex\"]])\n",
        "    print(mean_squared_error(predictions, test[\"body_mass_g\"]))\n",
        "    print(mean_absolute_error(predictions, test[\"body_mass_g\"]))\n",
        "\n",
        "except:\n",
        "    print(\"Oops...something went wrong\")"
      ]
    }
  ],
  "metadata": {
    "interpreter": {
      "hash": "b5ccb9f5d6d51dc977b67ba84d74a0a92ec2f4abcfbabc7cff12e70a3ea3948a"
    },
    "kernelspec": {
      "display_name": "Python 3.9.10 64-bit (windows store)",
      "language": "python",
      "name": "python3"
    },
    "language_info": {
      "codemirror_mode": {
        "name": "ipython",
        "version": 3
      },
      "file_extension": ".py",
      "mimetype": "text/x-python",
      "name": "python",
      "nbconvert_exporter": "python",
      "pygments_lexer": "ipython3",
      "version": "3.9.10"
    },
    "orig_nbformat": 4,
    "colab": {
      "provenance": []
    }
  },
  "nbformat": 4,
  "nbformat_minor": 0
}