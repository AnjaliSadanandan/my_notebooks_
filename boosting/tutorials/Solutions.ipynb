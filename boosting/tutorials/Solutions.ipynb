{
 "cells": [
  {
   "cell_type": "markdown",
   "metadata": {},
   "source": [
    "## Topics covered:\n",
    "### 1. Decision trees\n",
    "### 2. Random forests\n",
    "### 3. Boosting"
   ]
  },
  {
   "cell_type": "markdown",
   "metadata": {},
   "source": [
    "<hr>\n",
    "\n",
    "# Part 1: Decision trees\n",
    "\n",
    "<hr>"
   ]
  },
  {
   "cell_type": "markdown",
   "metadata": {},
   "source": [
    "## Dataset: <br>\n",
    "![PalmerPenguins](images/palmerpenguins.png)\n",
    "\n",
    "Artwork by @allison_horst"
   ]
  },
  {
   "cell_type": "markdown",
   "metadata": {},
   "source": [
    "## About the data:\n",
    "Data were collected and made available by Dr. Kristen Gorman and the Palmer Station, Antarctica LTER, a member of the Long Term Ecological Research Network. Datasets contain data for 344 penguins. There are 3 different species of penguins in this dataset, collected from 3 islands in the Palmer Archipelago, Antarctica."
   ]
  },
  {
   "cell_type": "markdown",
   "metadata": {},
   "source": [
    "![PalmerPenguins](images/penguins_images.png)"
   ]
  },
  {
   "cell_type": "markdown",
   "metadata": {},
   "source": [
    "# Dataset Description:\n",
    "\n",
    "1. species: penguin species (Chinstrap, Adélie, or Gentoo) \n",
    "2. culmen_length_mm: culmen length (mm) \n",
    "3. culmen_depth_mm: culmen depth (mm) \n",
    "4. flipper_length_mm: flipper length (mm) \n",
    "5. body_mass_g: body mass (g) \n",
    "6. island: island name (Dream, Torgersen, or Biscoe) in the Palmer Archipelago (Antarctica) \n",
    "7. sex: penguin sex \n",
    "\n",
    "\n",
    "![Culmen](images/culmen_depth.png)"
   ]
  },
  {
   "cell_type": "markdown",
   "metadata": {},
   "source": [
    "Data originally published in:\n",
    "\n",
    "Gorman KB, Williams TD, Fraser WR (2014). Ecological sexual dimorphism and environmental variability within a community of Antarctic penguins (genus Pygoscelis). PLoS ONE 9(3):e90081. https://doi.org/10.1371/journal.pone.0090081\n",
    "<br>\n",
    "\n",
    "Data citations:\n",
    "\n",
    "Adélie penguins:\n",
    "\n",
    "Palmer Station Antarctica LTER and K. Gorman, 2020. Structural size measurements and isotopic signatures of foraging among adult male and female Adélie penguins (Pygoscelis adeliae) nesting along the Palmer Archipelago near Palmer Station, 2007-2009 ver 5. Environmental Data Initiative. https://doi.org/10.6073/pasta/98b16d7d563f265cb52372c8ca99e60f (Accessed 2020-06-08).\n",
    "\n",
    "<br>\n",
    "Gentoo penguins:\n",
    "\n",
    "Palmer Station Antarctica LTER and K. Gorman, 2020. Structural size measurements and isotopic signatures of foraging among adult male and female Gentoo penguin (Pygoscelis papua) nesting along the Palmer Archipelago near Palmer Station, 2007-2009 ver 5. Environmental Data Initiative. https://doi.org/10.6073/pasta/7fca67fb28d56ee2ffa3d9370ebda689 (Accessed 2020-06-08).\n",
    "\n",
    "<br>\n",
    "Chinstrap penguins:\n",
    "\n",
    "Palmer Station Antarctica LTER and K. Gorman, 2020. Structural size measurements and isotopic signatures of foraging among adult male and female Chinstrap penguin (Pygoscelis antarcticus) nesting along the Palmer Archipelago near Palmer Station, 2007-2009 ver 6. Environmental Data Initiative. https://doi.org/10.6073/pasta/c14dfcfada8ea13a17536e73eb6fbe9e (Accessed 2020-06-08)."
   ]
  },
  {
   "cell_type": "code",
   "execution_count": 1,
   "metadata": {},
   "outputs": [],
   "source": [
    "#importing the required libraries\n",
    "import pandas as pd\n",
    "import numpy as np\n",
    "import matplotlib.pyplot as plt\n",
    "\n",
    "from sklearn.impute import SimpleImputer\n",
    "from sklearn.impute import KNNImputer\n",
    "from sklearn.preprocessing import LabelEncoder\n",
    "from sklearn.model_selection import train_test_split\n",
    "from sklearn.tree import DecisionTreeClassifier\n",
    "from sklearn.model_selection import GridSearchCV\n",
    "from sklearn.metrics import classification_report\n",
    "from sklearn.metrics import confusion_matrix\n",
    "from sklearn import tree\n",
    "from sklearn.ensemble import RandomForestClassifier\n",
    "from sklearn.metrics import roc_curve, auc\n",
    "from sklearn.preprocessing import label_binarize\n",
    "from sklearn.inspection import permutation_importance\n",
    "\n",
    "import warnings\n",
    "warnings.filterwarnings(\"ignore\")\n",
    "\n",
    "from mlxtend.plotting import plot_decision_regions\n",
    "\n",
    "from itertools import cycle\n",
    "from math import log"
   ]
  },
  {
   "cell_type": "code",
   "execution_count": 2,
   "metadata": {},
   "outputs": [],
   "source": [
    "penguin_data = pd.read_csv(\"https://www.dropbox.com/s/i7enaxx8yttjzht/penguins_size.csv?dl=1\")"
   ]
  },
  {
   "cell_type": "code",
   "execution_count": 3,
   "metadata": {},
   "outputs": [
    {
     "data": {
      "text/html": [
       "<div>\n",
       "<style scoped>\n",
       "    .dataframe tbody tr th:only-of-type {\n",
       "        vertical-align: middle;\n",
       "    }\n",
       "\n",
       "    .dataframe tbody tr th {\n",
       "        vertical-align: top;\n",
       "    }\n",
       "\n",
       "    .dataframe thead th {\n",
       "        text-align: right;\n",
       "    }\n",
       "</style>\n",
       "<table border=\"1\" class=\"dataframe\">\n",
       "  <thead>\n",
       "    <tr style=\"text-align: right;\">\n",
       "      <th></th>\n",
       "      <th>species</th>\n",
       "      <th>island</th>\n",
       "      <th>culmen_length_mm</th>\n",
       "      <th>culmen_depth_mm</th>\n",
       "      <th>flipper_length_mm</th>\n",
       "      <th>body_mass_g</th>\n",
       "      <th>sex</th>\n",
       "    </tr>\n",
       "  </thead>\n",
       "  <tbody>\n",
       "    <tr>\n",
       "      <th>0</th>\n",
       "      <td>Adelie</td>\n",
       "      <td>Torgersen</td>\n",
       "      <td>39.1</td>\n",
       "      <td>18.7</td>\n",
       "      <td>181.0</td>\n",
       "      <td>3750.0</td>\n",
       "      <td>MALE</td>\n",
       "    </tr>\n",
       "    <tr>\n",
       "      <th>1</th>\n",
       "      <td>Adelie</td>\n",
       "      <td>Torgersen</td>\n",
       "      <td>39.5</td>\n",
       "      <td>17.4</td>\n",
       "      <td>186.0</td>\n",
       "      <td>3800.0</td>\n",
       "      <td>FEMALE</td>\n",
       "    </tr>\n",
       "    <tr>\n",
       "      <th>2</th>\n",
       "      <td>Adelie</td>\n",
       "      <td>Torgersen</td>\n",
       "      <td>40.3</td>\n",
       "      <td>18.0</td>\n",
       "      <td>195.0</td>\n",
       "      <td>3250.0</td>\n",
       "      <td>FEMALE</td>\n",
       "    </tr>\n",
       "    <tr>\n",
       "      <th>3</th>\n",
       "      <td>Adelie</td>\n",
       "      <td>Torgersen</td>\n",
       "      <td>NaN</td>\n",
       "      <td>NaN</td>\n",
       "      <td>NaN</td>\n",
       "      <td>NaN</td>\n",
       "      <td>NaN</td>\n",
       "    </tr>\n",
       "    <tr>\n",
       "      <th>4</th>\n",
       "      <td>Adelie</td>\n",
       "      <td>Torgersen</td>\n",
       "      <td>36.7</td>\n",
       "      <td>19.3</td>\n",
       "      <td>193.0</td>\n",
       "      <td>3450.0</td>\n",
       "      <td>FEMALE</td>\n",
       "    </tr>\n",
       "  </tbody>\n",
       "</table>\n",
       "</div>"
      ],
      "text/plain": [
       "  species     island  culmen_length_mm  culmen_depth_mm  flipper_length_mm  \\\n",
       "0  Adelie  Torgersen              39.1             18.7              181.0   \n",
       "1  Adelie  Torgersen              39.5             17.4              186.0   \n",
       "2  Adelie  Torgersen              40.3             18.0              195.0   \n",
       "3  Adelie  Torgersen               NaN              NaN                NaN   \n",
       "4  Adelie  Torgersen              36.7             19.3              193.0   \n",
       "\n",
       "   body_mass_g     sex  \n",
       "0       3750.0    MALE  \n",
       "1       3800.0  FEMALE  \n",
       "2       3250.0  FEMALE  \n",
       "3          NaN     NaN  \n",
       "4       3450.0  FEMALE  "
      ]
     },
     "execution_count": 3,
     "metadata": {},
     "output_type": "execute_result"
    }
   ],
   "source": [
    "penguin_data.head()"
   ]
  },
  {
   "cell_type": "code",
   "execution_count": 4,
   "metadata": {},
   "outputs": [
    {
     "name": "stdout",
     "output_type": "stream",
     "text": [
      "<class 'pandas.core.frame.DataFrame'>\n",
      "RangeIndex: 344 entries, 0 to 343\n",
      "Data columns (total 7 columns):\n",
      " #   Column             Non-Null Count  Dtype  \n",
      "---  ------             --------------  -----  \n",
      " 0   species            344 non-null    object \n",
      " 1   island             344 non-null    object \n",
      " 2   culmen_length_mm   342 non-null    float64\n",
      " 3   culmen_depth_mm    342 non-null    float64\n",
      " 4   flipper_length_mm  342 non-null    float64\n",
      " 5   body_mass_g        342 non-null    float64\n",
      " 6   sex                334 non-null    object \n",
      "dtypes: float64(4), object(3)\n",
      "memory usage: 18.9+ KB\n"
     ]
    }
   ],
   "source": [
    "penguin_data.info()"
   ]
  },
  {
   "cell_type": "code",
   "execution_count": 5,
   "metadata": {},
   "outputs": [],
   "source": [
    "species = penguin_data[\"species\"].unique()"
   ]
  },
  {
   "cell_type": "code",
   "execution_count": 6,
   "metadata": {},
   "outputs": [
    {
     "name": "stdout",
     "output_type": "stream",
     "text": [
      "['Adelie' 'Chinstrap' 'Gentoo']\n"
     ]
    }
   ],
   "source": [
    "print(species)"
   ]
  },
  {
   "cell_type": "markdown",
   "metadata": {},
   "source": [
    "We can observe there are some null values in the dataset collected. So lets do some data cleaning! \\\n",
    "Instead of dropping the missing data, lets instead do imputation.\n",
    "\n",
    "https://scikit-learn.org/stable/modules/impute.html#"
   ]
  },
  {
   "cell_type": "markdown",
   "metadata": {},
   "source": [
    "### Imputation for completing missing values using k-Nearest Neighbors."
   ]
  },
  {
   "cell_type": "markdown",
   "metadata": {},
   "source": [
    "For imputing missing values in categorical variables, we have to encode the categorical values into numeric values as KNNImputer works only for numeric variables. \n",
    "\n",
    "We can perform this using a mapping of categories to numeric variables."
   ]
  },
  {
   "cell_type": "code",
   "execution_count": 7,
   "metadata": {},
   "outputs": [],
   "source": [
    "def label_encode_features(dataset):\n",
    "    #Use LabelEncoder to encode the categorical columns\n",
    "    #You should replace the corresponding columns in the dataframe and return the dataf\n",
    "\n",
    "    #Enter your code \n",
    "    #---------------\n",
    "    label_encoder = LabelEncoder()\n",
    "    penguin_data['species'] = label_encoder.fit_transform(penguin_data['species'])\n",
    "    penguin_data['island'] = label_encoder.fit_transform(penguin_data['island'])\n",
    "    penguin_data['sex'] = label_encoder.fit_transform(penguin_data['sex'])\n",
    "    #---------------\n",
    "    return dataset"
   ]
  },
  {
   "cell_type": "code",
   "execution_count": 8,
   "metadata": {},
   "outputs": [],
   "source": [
    "penguin_data = label_encode_features(penguin_data)"
   ]
  },
  {
   "cell_type": "code",
   "execution_count": 9,
   "metadata": {},
   "outputs": [
    {
     "data": {
      "text/html": [
       "<div>\n",
       "<style scoped>\n",
       "    .dataframe tbody tr th:only-of-type {\n",
       "        vertical-align: middle;\n",
       "    }\n",
       "\n",
       "    .dataframe tbody tr th {\n",
       "        vertical-align: top;\n",
       "    }\n",
       "\n",
       "    .dataframe thead th {\n",
       "        text-align: right;\n",
       "    }\n",
       "</style>\n",
       "<table border=\"1\" class=\"dataframe\">\n",
       "  <thead>\n",
       "    <tr style=\"text-align: right;\">\n",
       "      <th></th>\n",
       "      <th>species</th>\n",
       "      <th>island</th>\n",
       "      <th>culmen_length_mm</th>\n",
       "      <th>culmen_depth_mm</th>\n",
       "      <th>flipper_length_mm</th>\n",
       "      <th>body_mass_g</th>\n",
       "      <th>sex</th>\n",
       "    </tr>\n",
       "  </thead>\n",
       "  <tbody>\n",
       "    <tr>\n",
       "      <th>0</th>\n",
       "      <td>0</td>\n",
       "      <td>2</td>\n",
       "      <td>39.1</td>\n",
       "      <td>18.7</td>\n",
       "      <td>181.0</td>\n",
       "      <td>3750.0</td>\n",
       "      <td>1</td>\n",
       "    </tr>\n",
       "    <tr>\n",
       "      <th>1</th>\n",
       "      <td>0</td>\n",
       "      <td>2</td>\n",
       "      <td>39.5</td>\n",
       "      <td>17.4</td>\n",
       "      <td>186.0</td>\n",
       "      <td>3800.0</td>\n",
       "      <td>0</td>\n",
       "    </tr>\n",
       "    <tr>\n",
       "      <th>2</th>\n",
       "      <td>0</td>\n",
       "      <td>2</td>\n",
       "      <td>40.3</td>\n",
       "      <td>18.0</td>\n",
       "      <td>195.0</td>\n",
       "      <td>3250.0</td>\n",
       "      <td>0</td>\n",
       "    </tr>\n",
       "    <tr>\n",
       "      <th>3</th>\n",
       "      <td>0</td>\n",
       "      <td>2</td>\n",
       "      <td>NaN</td>\n",
       "      <td>NaN</td>\n",
       "      <td>NaN</td>\n",
       "      <td>NaN</td>\n",
       "      <td>2</td>\n",
       "    </tr>\n",
       "    <tr>\n",
       "      <th>4</th>\n",
       "      <td>0</td>\n",
       "      <td>2</td>\n",
       "      <td>36.7</td>\n",
       "      <td>19.3</td>\n",
       "      <td>193.0</td>\n",
       "      <td>3450.0</td>\n",
       "      <td>0</td>\n",
       "    </tr>\n",
       "  </tbody>\n",
       "</table>\n",
       "</div>"
      ],
      "text/plain": [
       "   species  island  culmen_length_mm  culmen_depth_mm  flipper_length_mm  \\\n",
       "0        0       2              39.1             18.7              181.0   \n",
       "1        0       2              39.5             17.4              186.0   \n",
       "2        0       2              40.3             18.0              195.0   \n",
       "3        0       2               NaN              NaN                NaN   \n",
       "4        0       2              36.7             19.3              193.0   \n",
       "\n",
       "   body_mass_g  sex  \n",
       "0       3750.0    1  \n",
       "1       3800.0    0  \n",
       "2       3250.0    0  \n",
       "3          NaN    2  \n",
       "4       3450.0    0  "
      ]
     },
     "execution_count": 9,
     "metadata": {},
     "output_type": "execute_result"
    }
   ],
   "source": [
    "penguin_data.head()"
   ]
  },
  {
   "cell_type": "markdown",
   "metadata": {},
   "source": [
    "### Note NaN values have also been encoded"
   ]
  },
  {
   "cell_type": "code",
   "execution_count": 10,
   "metadata": {},
   "outputs": [],
   "source": [
    "penguin_data.loc[penguin_data[\"sex\"] == 2,\"sex\"] = np.nan       #reverting back encoded nan values for imputation"
   ]
  },
  {
   "cell_type": "code",
   "execution_count": 11,
   "metadata": {},
   "outputs": [
    {
     "data": {
      "text/html": [
       "<div>\n",
       "<style scoped>\n",
       "    .dataframe tbody tr th:only-of-type {\n",
       "        vertical-align: middle;\n",
       "    }\n",
       "\n",
       "    .dataframe tbody tr th {\n",
       "        vertical-align: top;\n",
       "    }\n",
       "\n",
       "    .dataframe thead th {\n",
       "        text-align: right;\n",
       "    }\n",
       "</style>\n",
       "<table border=\"1\" class=\"dataframe\">\n",
       "  <thead>\n",
       "    <tr style=\"text-align: right;\">\n",
       "      <th></th>\n",
       "      <th>species</th>\n",
       "      <th>island</th>\n",
       "      <th>culmen_length_mm</th>\n",
       "      <th>culmen_depth_mm</th>\n",
       "      <th>flipper_length_mm</th>\n",
       "      <th>body_mass_g</th>\n",
       "      <th>sex</th>\n",
       "    </tr>\n",
       "  </thead>\n",
       "  <tbody>\n",
       "    <tr>\n",
       "      <th>0</th>\n",
       "      <td>0</td>\n",
       "      <td>2</td>\n",
       "      <td>39.1</td>\n",
       "      <td>18.7</td>\n",
       "      <td>181.0</td>\n",
       "      <td>3750.0</td>\n",
       "      <td>1.0</td>\n",
       "    </tr>\n",
       "    <tr>\n",
       "      <th>1</th>\n",
       "      <td>0</td>\n",
       "      <td>2</td>\n",
       "      <td>39.5</td>\n",
       "      <td>17.4</td>\n",
       "      <td>186.0</td>\n",
       "      <td>3800.0</td>\n",
       "      <td>0.0</td>\n",
       "    </tr>\n",
       "    <tr>\n",
       "      <th>2</th>\n",
       "      <td>0</td>\n",
       "      <td>2</td>\n",
       "      <td>40.3</td>\n",
       "      <td>18.0</td>\n",
       "      <td>195.0</td>\n",
       "      <td>3250.0</td>\n",
       "      <td>0.0</td>\n",
       "    </tr>\n",
       "    <tr>\n",
       "      <th>3</th>\n",
       "      <td>0</td>\n",
       "      <td>2</td>\n",
       "      <td>NaN</td>\n",
       "      <td>NaN</td>\n",
       "      <td>NaN</td>\n",
       "      <td>NaN</td>\n",
       "      <td>NaN</td>\n",
       "    </tr>\n",
       "    <tr>\n",
       "      <th>4</th>\n",
       "      <td>0</td>\n",
       "      <td>2</td>\n",
       "      <td>36.7</td>\n",
       "      <td>19.3</td>\n",
       "      <td>193.0</td>\n",
       "      <td>3450.0</td>\n",
       "      <td>0.0</td>\n",
       "    </tr>\n",
       "  </tbody>\n",
       "</table>\n",
       "</div>"
      ],
      "text/plain": [
       "   species  island  culmen_length_mm  culmen_depth_mm  flipper_length_mm  \\\n",
       "0        0       2              39.1             18.7              181.0   \n",
       "1        0       2              39.5             17.4              186.0   \n",
       "2        0       2              40.3             18.0              195.0   \n",
       "3        0       2               NaN              NaN                NaN   \n",
       "4        0       2              36.7             19.3              193.0   \n",
       "\n",
       "   body_mass_g  sex  \n",
       "0       3750.0  1.0  \n",
       "1       3800.0  0.0  \n",
       "2       3250.0  0.0  \n",
       "3          NaN  NaN  \n",
       "4       3450.0  0.0  "
      ]
     },
     "execution_count": 11,
     "metadata": {},
     "output_type": "execute_result"
    }
   ],
   "source": [
    "penguin_data.head()"
   ]
  },
  {
   "cell_type": "code",
   "execution_count": 12,
   "metadata": {},
   "outputs": [],
   "source": [
    "def dataset_imputation_KNN(dataset, n_neighbors):\n",
    "    #use KNNImputer to replace the missing values\n",
    "    #Your code should return the dataframe after imputation\n",
    "\n",
    "    #Enter your code here\n",
    "    #--------------------\n",
    "    columns=dataset.columns.values\n",
    "    imputer = KNNImputer(n_neighbors=n_neighbors)\n",
    "    dataset = imputer.fit_transform(dataset)\n",
    "    dataset = pd.DataFrame(dataset, columns=columns)\n",
    "    #--------------------\n",
    "    return dataset"
   ]
  },
  {
   "cell_type": "code",
   "execution_count": 13,
   "metadata": {},
   "outputs": [],
   "source": [
    "penguin_data_imp_KNN = dataset_imputation_KNN(penguin_data, n_neighbors = 4)"
   ]
  },
  {
   "cell_type": "code",
   "execution_count": 14,
   "metadata": {},
   "outputs": [
    {
     "data": {
      "text/html": [
       "<div>\n",
       "<style scoped>\n",
       "    .dataframe tbody tr th:only-of-type {\n",
       "        vertical-align: middle;\n",
       "    }\n",
       "\n",
       "    .dataframe tbody tr th {\n",
       "        vertical-align: top;\n",
       "    }\n",
       "\n",
       "    .dataframe thead th {\n",
       "        text-align: right;\n",
       "    }\n",
       "</style>\n",
       "<table border=\"1\" class=\"dataframe\">\n",
       "  <thead>\n",
       "    <tr style=\"text-align: right;\">\n",
       "      <th></th>\n",
       "      <th>species</th>\n",
       "      <th>island</th>\n",
       "      <th>culmen_length_mm</th>\n",
       "      <th>culmen_depth_mm</th>\n",
       "      <th>flipper_length_mm</th>\n",
       "      <th>body_mass_g</th>\n",
       "      <th>sex</th>\n",
       "    </tr>\n",
       "  </thead>\n",
       "  <tbody>\n",
       "    <tr>\n",
       "      <th>0</th>\n",
       "      <td>0.0</td>\n",
       "      <td>2.0</td>\n",
       "      <td>39.100</td>\n",
       "      <td>18.700</td>\n",
       "      <td>181.00</td>\n",
       "      <td>3750.0</td>\n",
       "      <td>1.00</td>\n",
       "    </tr>\n",
       "    <tr>\n",
       "      <th>1</th>\n",
       "      <td>0.0</td>\n",
       "      <td>2.0</td>\n",
       "      <td>39.500</td>\n",
       "      <td>17.400</td>\n",
       "      <td>186.00</td>\n",
       "      <td>3800.0</td>\n",
       "      <td>0.00</td>\n",
       "    </tr>\n",
       "    <tr>\n",
       "      <th>2</th>\n",
       "      <td>0.0</td>\n",
       "      <td>2.0</td>\n",
       "      <td>40.300</td>\n",
       "      <td>18.000</td>\n",
       "      <td>195.00</td>\n",
       "      <td>3250.0</td>\n",
       "      <td>0.00</td>\n",
       "    </tr>\n",
       "    <tr>\n",
       "      <th>3</th>\n",
       "      <td>0.0</td>\n",
       "      <td>2.0</td>\n",
       "      <td>39.575</td>\n",
       "      <td>18.275</td>\n",
       "      <td>190.25</td>\n",
       "      <td>3925.0</td>\n",
       "      <td>0.25</td>\n",
       "    </tr>\n",
       "    <tr>\n",
       "      <th>4</th>\n",
       "      <td>0.0</td>\n",
       "      <td>2.0</td>\n",
       "      <td>36.700</td>\n",
       "      <td>19.300</td>\n",
       "      <td>193.00</td>\n",
       "      <td>3450.0</td>\n",
       "      <td>0.00</td>\n",
       "    </tr>\n",
       "  </tbody>\n",
       "</table>\n",
       "</div>"
      ],
      "text/plain": [
       "   species  island  culmen_length_mm  culmen_depth_mm  flipper_length_mm  \\\n",
       "0      0.0     2.0            39.100           18.700             181.00   \n",
       "1      0.0     2.0            39.500           17.400             186.00   \n",
       "2      0.0     2.0            40.300           18.000             195.00   \n",
       "3      0.0     2.0            39.575           18.275             190.25   \n",
       "4      0.0     2.0            36.700           19.300             193.00   \n",
       "\n",
       "   body_mass_g   sex  \n",
       "0       3750.0  1.00  \n",
       "1       3800.0  0.00  \n",
       "2       3250.0  0.00  \n",
       "3       3925.0  0.25  \n",
       "4       3450.0  0.00  "
      ]
     },
     "execution_count": 14,
     "metadata": {},
     "output_type": "execute_result"
    }
   ],
   "source": [
    "penguin_data_imp_KNN.head()"
   ]
  },
  {
   "cell_type": "code",
   "execution_count": 15,
   "metadata": {},
   "outputs": [
    {
     "name": "stdout",
     "output_type": "stream",
     "text": [
      "<class 'pandas.core.frame.DataFrame'>\n",
      "RangeIndex: 344 entries, 0 to 343\n",
      "Data columns (total 7 columns):\n",
      " #   Column             Non-Null Count  Dtype  \n",
      "---  ------             --------------  -----  \n",
      " 0   species            344 non-null    float64\n",
      " 1   island             344 non-null    float64\n",
      " 2   culmen_length_mm   344 non-null    float64\n",
      " 3   culmen_depth_mm    344 non-null    float64\n",
      " 4   flipper_length_mm  344 non-null    float64\n",
      " 5   body_mass_g        344 non-null    float64\n",
      " 6   sex                344 non-null    float64\n",
      "dtypes: float64(7)\n",
      "memory usage: 18.9 KB\n"
     ]
    }
   ],
   "source": [
    "penguin_data_imp_KNN.info()"
   ]
  },
  {
   "cell_type": "markdown",
   "metadata": {},
   "source": [
    "### We can also perform univariate imputation using SimpleImputer\n",
    "### Similar to pandas.DataFrame.fillna()"
   ]
  },
  {
   "cell_type": "code",
   "execution_count": 16,
   "metadata": {},
   "outputs": [],
   "source": [
    "def dataset_simple_imputation(dataset, strategy):\n",
    "    #use SimpleImputer to replace the missing values as per the strategy\n",
    "    #Your code should return the dataframe after imputation\n",
    "\n",
    "    #Enter your code here\n",
    "    #--------------------\n",
    "    columns=dataset.columns.values\n",
    "    imputer = SimpleImputer(missing_values= np.nan , strategy= strategy)\n",
    "    fitted_imputer = imputer.fit(dataset)\n",
    "    dataset = fitted_imputer.transform(dataset)\n",
    "    dataset = pd.DataFrame(dataset, columns = columns)\n",
    "    #--------------------\n",
    "    return dataset"
   ]
  },
  {
   "cell_type": "code",
   "execution_count": 17,
   "metadata": {},
   "outputs": [],
   "source": [
    "penguin_data_imp_simple = dataset_simple_imputation(dataset = penguin_data, strategy=\"median\")"
   ]
  },
  {
   "cell_type": "code",
   "execution_count": 18,
   "metadata": {},
   "outputs": [
    {
     "data": {
      "text/html": [
       "<div>\n",
       "<style scoped>\n",
       "    .dataframe tbody tr th:only-of-type {\n",
       "        vertical-align: middle;\n",
       "    }\n",
       "\n",
       "    .dataframe tbody tr th {\n",
       "        vertical-align: top;\n",
       "    }\n",
       "\n",
       "    .dataframe thead th {\n",
       "        text-align: right;\n",
       "    }\n",
       "</style>\n",
       "<table border=\"1\" class=\"dataframe\">\n",
       "  <thead>\n",
       "    <tr style=\"text-align: right;\">\n",
       "      <th></th>\n",
       "      <th>species</th>\n",
       "      <th>island</th>\n",
       "      <th>culmen_length_mm</th>\n",
       "      <th>culmen_depth_mm</th>\n",
       "      <th>flipper_length_mm</th>\n",
       "      <th>body_mass_g</th>\n",
       "      <th>sex</th>\n",
       "    </tr>\n",
       "  </thead>\n",
       "  <tbody>\n",
       "    <tr>\n",
       "      <th>0</th>\n",
       "      <td>0.0</td>\n",
       "      <td>2.0</td>\n",
       "      <td>39.10</td>\n",
       "      <td>18.7</td>\n",
       "      <td>181.0</td>\n",
       "      <td>3750.0</td>\n",
       "      <td>1.0</td>\n",
       "    </tr>\n",
       "    <tr>\n",
       "      <th>1</th>\n",
       "      <td>0.0</td>\n",
       "      <td>2.0</td>\n",
       "      <td>39.50</td>\n",
       "      <td>17.4</td>\n",
       "      <td>186.0</td>\n",
       "      <td>3800.0</td>\n",
       "      <td>0.0</td>\n",
       "    </tr>\n",
       "    <tr>\n",
       "      <th>2</th>\n",
       "      <td>0.0</td>\n",
       "      <td>2.0</td>\n",
       "      <td>40.30</td>\n",
       "      <td>18.0</td>\n",
       "      <td>195.0</td>\n",
       "      <td>3250.0</td>\n",
       "      <td>0.0</td>\n",
       "    </tr>\n",
       "    <tr>\n",
       "      <th>3</th>\n",
       "      <td>0.0</td>\n",
       "      <td>2.0</td>\n",
       "      <td>44.45</td>\n",
       "      <td>17.3</td>\n",
       "      <td>197.0</td>\n",
       "      <td>4050.0</td>\n",
       "      <td>1.0</td>\n",
       "    </tr>\n",
       "    <tr>\n",
       "      <th>4</th>\n",
       "      <td>0.0</td>\n",
       "      <td>2.0</td>\n",
       "      <td>36.70</td>\n",
       "      <td>19.3</td>\n",
       "      <td>193.0</td>\n",
       "      <td>3450.0</td>\n",
       "      <td>0.0</td>\n",
       "    </tr>\n",
       "  </tbody>\n",
       "</table>\n",
       "</div>"
      ],
      "text/plain": [
       "   species  island  culmen_length_mm  culmen_depth_mm  flipper_length_mm  \\\n",
       "0      0.0     2.0             39.10             18.7              181.0   \n",
       "1      0.0     2.0             39.50             17.4              186.0   \n",
       "2      0.0     2.0             40.30             18.0              195.0   \n",
       "3      0.0     2.0             44.45             17.3              197.0   \n",
       "4      0.0     2.0             36.70             19.3              193.0   \n",
       "\n",
       "   body_mass_g  sex  \n",
       "0       3750.0  1.0  \n",
       "1       3800.0  0.0  \n",
       "2       3250.0  0.0  \n",
       "3       4050.0  1.0  \n",
       "4       3450.0  0.0  "
      ]
     },
     "execution_count": 18,
     "metadata": {},
     "output_type": "execute_result"
    }
   ],
   "source": [
    "penguin_data_imp_simple.head()"
   ]
  },
  {
   "cell_type": "code",
   "execution_count": 19,
   "metadata": {},
   "outputs": [
    {
     "name": "stdout",
     "output_type": "stream",
     "text": [
      "<class 'pandas.core.frame.DataFrame'>\n",
      "RangeIndex: 344 entries, 0 to 343\n",
      "Data columns (total 7 columns):\n",
      " #   Column             Non-Null Count  Dtype  \n",
      "---  ------             --------------  -----  \n",
      " 0   species            344 non-null    float64\n",
      " 1   island             344 non-null    float64\n",
      " 2   culmen_length_mm   344 non-null    float64\n",
      " 3   culmen_depth_mm    344 non-null    float64\n",
      " 4   flipper_length_mm  344 non-null    float64\n",
      " 5   body_mass_g        344 non-null    float64\n",
      " 6   sex                344 non-null    float64\n",
      "dtypes: float64(7)\n",
      "memory usage: 18.9 KB\n"
     ]
    }
   ],
   "source": [
    "penguin_data_imp_simple.info()"
   ]
  },
  {
   "cell_type": "markdown",
   "metadata": {},
   "source": [
    "## Lets split the data into testing and training set"
   ]
  },
  {
   "cell_type": "code",
   "execution_count": 20,
   "metadata": {},
   "outputs": [],
   "source": [
    "train, test = train_test_split(penguin_data_imp_simple, test_size=0.2, random_state=42)"
   ]
  },
  {
   "cell_type": "code",
   "execution_count": 21,
   "metadata": {},
   "outputs": [
    {
     "data": {
      "text/plain": [
       "(275, 7)"
      ]
     },
     "execution_count": 21,
     "metadata": {},
     "output_type": "execute_result"
    }
   ],
   "source": [
    "train.shape"
   ]
  },
  {
   "cell_type": "code",
   "execution_count": 22,
   "metadata": {},
   "outputs": [
    {
     "data": {
      "text/plain": [
       "(69, 7)"
      ]
     },
     "execution_count": 22,
     "metadata": {},
     "output_type": "execute_result"
    }
   ],
   "source": [
    "test.shape"
   ]
  },
  {
   "cell_type": "markdown",
   "metadata": {},
   "source": [
    "### Decision tree classifier: To predict the species of the penguin\n",
    "\n",
    "Target: species \\\n",
    "Features: all other columns in the dataframe"
   ]
  },
  {
   "cell_type": "code",
   "execution_count": 23,
   "metadata": {},
   "outputs": [],
   "source": [
    "features = [\"island\",\"culmen_length_mm\",\"culmen_depth_mm\",\"flipper_length_mm\",\"body_mass_g\",\"sex\"]\n",
    "target = \"species\""
   ]
  },
  {
   "cell_type": "code",
   "execution_count": 24,
   "metadata": {},
   "outputs": [],
   "source": [
    "def fit_decision_tree_model_classifier(X_train, Y_train, **args):\n",
    "    #Fit and return the decision tree model\n",
    "\n",
    "    #Enter your code here\n",
    "    #--------------------\n",
    "    model = DecisionTreeClassifier(**args)\n",
    "    model.fit(X_train,Y_train)\n",
    "    #--------------------\n",
    "    return model"
   ]
  },
  {
   "cell_type": "code",
   "execution_count": 25,
   "metadata": {},
   "outputs": [],
   "source": [
    "model_DT_class = fit_decision_tree_model_classifier(train[features],train[target], random_state = 42)"
   ]
  },
  {
   "cell_type": "markdown",
   "metadata": {},
   "source": [
    "# Feature Importances"
   ]
  },
  {
   "cell_type": "code",
   "execution_count": 26,
   "metadata": {},
   "outputs": [],
   "source": [
    "def return_feature_imp(model, features):\n",
    "    #return feature importance of the fitted model\n",
    "    \n",
    "    feature_imp = np.zeros_like(features)\n",
    "\n",
    "    if model == None:\n",
    "        print(\"Model not fitted yet\")\n",
    "        return feature_imp\n",
    "    \n",
    "    #Enter your code here\n",
    "    #--------------------\n",
    "    feature_imp = model.feature_importances_\n",
    "    #--------------------\n",
    "    return feature_imp"
   ]
  },
  {
   "cell_type": "code",
   "execution_count": 27,
   "metadata": {},
   "outputs": [],
   "source": [
    "def plot_bar_graph(features, importance):\n",
    "    plt.figure(figsize = (10,3))\n",
    "    plt.bar(features , importance)\n",
    "    plt.title(\"Feature importance\")\n",
    "    plt.tight_layout()\n",
    "    return"
   ]
  },
  {
   "cell_type": "code",
   "execution_count": 28,
   "metadata": {},
   "outputs": [
    {
     "data": {
      "image/png": "[encoded data removed]",
      "text/plain": [
       "<Figure size 720x216 with 1 Axes>"
      ]
     },
     "metadata": {
      "needs_background": "light"
     },
     "output_type": "display_data"
    }
   ],
   "source": [
    "plot_bar_graph(features, return_feature_imp(model_DT_class, features))"
   ]
  },
  {
   "cell_type": "markdown",
   "metadata": {},
   "source": [
    "# Permutation importances"
   ]
  },
  {
   "cell_type": "code",
   "execution_count": 29,
   "metadata": {},
   "outputs": [],
   "source": [
    "def return_permutation_imp(model, features, target, train, n_repeats, random_state, n_jobs):\n",
    "    #return feature importance of the fitted model\n",
    "    \n",
    "    permutation_imp = np.zeros_like(features)\n",
    "\n",
    "    if model == None:\n",
    "        print(\"Model not fitted yet\")\n",
    "        return permutation_imp\n",
    "\n",
    "    #Enter your code here\n",
    "    #--------------------\n",
    "    permutation_imp = permutation_importance(model, train[features],train[target], n_repeats=n_repeats, random_state=random_state, n_jobs=n_jobs)\n",
    "    #--------------------\n",
    "    return permutation_imp['importances_mean']"
   ]
  },
  {
   "cell_type": "code",
   "execution_count": 30,
   "metadata": {},
   "outputs": [],
   "source": [
    "importances = return_permutation_imp(model_DT_class, features, target, train, n_repeats = 10, random_state = 42, n_jobs = 2)"
   ]
  },
  {
   "cell_type": "code",
   "execution_count": 31,
   "metadata": {},
   "outputs": [
    {
     "name": "stdout",
     "output_type": "stream",
     "text": [
      "[0.31454545 0.196      0.06981818 0.33054545 0.         0.00763636]\n"
     ]
    }
   ],
   "source": [
    "print(importances)"
   ]
  },
  {
   "cell_type": "code",
   "execution_count": 32,
   "metadata": {},
   "outputs": [
    {
     "data": {
      "image/png": "[encoded data removed]",
      "text/plain": [
       "<Figure size 720x216 with 1 Axes>"
      ]
     },
     "metadata": {
      "needs_background": "light"
     },
     "output_type": "display_data"
    }
   ],
   "source": [
    "#Plotting the bar graph of feature importances\n",
    "\n",
    "plot_bar_graph(features, importances)"
   ]
  },
  {
   "cell_type": "code",
   "execution_count": 33,
   "metadata": {},
   "outputs": [],
   "source": [
    "def predictions(model,X_test):\n",
    "    #Make predictions using the fitted model\n",
    "\n",
    "    y_pred = np.zeros((len(X_test), 1))\n",
    "    \n",
    "    #Enter your code here\n",
    "    #--------------------\n",
    "    y_pred = model.predict(X_test)\n",
    "    #--------------------\n",
    "    return y_pred"
   ]
  },
  {
   "cell_type": "code",
   "execution_count": 34,
   "metadata": {},
   "outputs": [],
   "source": [
    "y_pred = predictions(model_DT_class, test[features])"
   ]
  },
  {
   "cell_type": "code",
   "execution_count": 35,
   "metadata": {},
   "outputs": [],
   "source": [
    "def return_class_metrics(y_pred, y):\n",
    "    #return classification_report and confusion matrix\n",
    "\n",
    "    report = []\n",
    "    conf_matrix = []\n",
    "\n",
    "    #Enter your code here\n",
    "    #--------------------\n",
    "    report = classification_report(y_pred, y)\n",
    "    conf_matrix = confusion_matrix(y_pred, y)\n",
    "    #--------------------\n",
    "    return report, conf_matrix"
   ]
  },
  {
   "cell_type": "code",
   "execution_count": 36,
   "metadata": {},
   "outputs": [],
   "source": [
    "report, conf_matrix = return_class_metrics(y_pred, test[\"species\"])"
   ]
  },
  {
   "cell_type": "code",
   "execution_count": 37,
   "metadata": {},
   "outputs": [
    {
     "name": "stdout",
     "output_type": "stream",
     "text": [
      "              precision    recall  f1-score   support\n",
      "\n",
      "         0.0       0.97      0.97      0.97        32\n",
      "         1.0       1.00      1.00      1.00        16\n",
      "         2.0       0.95      0.95      0.95        21\n",
      "\n",
      "    accuracy                           0.97        69\n",
      "   macro avg       0.97      0.97      0.97        69\n",
      "weighted avg       0.97      0.97      0.97        69\n",
      "\n"
     ]
    }
   ],
   "source": [
    "print(report)"
   ]
  },
  {
   "cell_type": "code",
   "execution_count": 38,
   "metadata": {},
   "outputs": [
    {
     "data": {
      "text/plain": [
       "array([[31,  0,  1],\n",
       "       [ 0, 16,  0],\n",
       "       [ 1,  0, 20]])"
      ]
     },
     "execution_count": 38,
     "metadata": {},
     "output_type": "execute_result"
    }
   ],
   "source": [
    "conf_matrix"
   ]
  },
  {
   "cell_type": "markdown",
   "metadata": {},
   "source": [
    "## Visualizing the decision tree"
   ]
  },
  {
   "cell_type": "code",
   "execution_count": 39,
   "metadata": {},
   "outputs": [
    {
     "data": {
      "image/png": "[encoded data removed]",
      "text/plain": [
       "<Figure size 1800x1800 with 1 Axes>"
      ]
     },
     "metadata": {
      "needs_background": "light"
     },
     "output_type": "display_data"
    }
   ],
   "source": [
    "plt.figure(figsize=(6,6),dpi=300)\n",
    "\n",
    "if model_DT_class==None:\n",
    "    print(\"Model not fitted yet\")\n",
    "\n",
    "else:\n",
    "    tree.plot_tree(model_DT_class, filled=True, feature_names=[\"island\",\"culmen_length_mm\",\"culmen_depth_mm\",\"flipper_length_mm\",\"body_mass_g\",\"sex\"], class_names=species);"
   ]
  },
  {
   "cell_type": "markdown",
   "metadata": {},
   "source": [
    "## Visualizing the decision boundaries"
   ]
  },
  {
   "cell_type": "code",
   "execution_count": 40,
   "metadata": {},
   "outputs": [
    {
     "data": {
      "image/png": "[encoded data removed]",
      "text/plain": [
       "<Figure size 360x360 with 1 Axes>"
      ]
     },
     "metadata": {
      "needs_background": "light"
     },
     "output_type": "display_data"
    }
   ],
   "source": [
    "plt.figure(figsize=(5,5))\n",
    "\n",
    "if model_DT_class==None:\n",
    "    print(\"Model not fitted yet\")\n",
    "\n",
    "else:\n",
    "\n",
    "    scatter_kwargs = {'s': 100, 'edgecolor': None, 'alpha': 0.7}\n",
    "    contourf_kwargs = {'alpha': 0.2}\n",
    "    scatter_highlight_kwargs = {'s': 50, 'label': 'Test data', 'alpha': 0.7}\n",
    "                                    \n",
    "    fig = plot_decision_regions(X=train[[\"island\",\"culmen_length_mm\",\"culmen_depth_mm\",\"flipper_length_mm\",\"body_mass_g\",\"sex\"]].values, y = train[\"species\"].astype(int).values, \n",
    "                                    feature_index=[0,1], \n",
    "                                    filler_feature_values={2: 17, 3:180, 4:3000, 5:1},\n",
    "                                    filler_feature_ranges={2: 10, 3:50, 4:1000, 5:3}, clf=model_DT_class,\n",
    "                                    scatter_kwargs=scatter_kwargs,\n",
    "                                    contourf_kwargs=contourf_kwargs,\n",
    "                                    scatter_highlight_kwargs=scatter_highlight_kwargs,\n",
    "                                    X_highlight=test[[\"island\",\"culmen_length_mm\",\"culmen_depth_mm\",\"flipper_length_mm\",\"body_mass_g\",\"sex\"]].values)\n",
    "\n",
    "    plt.xlabel(\"island\")\n",
    "    plt.ylabel(\"culmen_length_mm\")\n",
    "    plt.title(\"Decision Tree Model\")\n",
    "    plt.show()"
   ]
  },
  {
   "cell_type": "markdown",
   "metadata": {},
   "source": [
    "## Lets tune the hyperparameters of the classifier using GridSearchCV"
   ]
  },
  {
   "cell_type": "code",
   "execution_count": 41,
   "metadata": {},
   "outputs": [],
   "source": [
    "def best_params(model, param_grid, scoring, cv, X_train, Y_train):\n",
    "    #Return the best hyperparameters and the fitted model\n",
    "    \n",
    "    params = None\n",
    "    grid_model = None\n",
    "\n",
    "    #Enter your code here\n",
    "    #--------------------   \n",
    "\n",
    "    grid_model = GridSearchCV(estimator=model,\n",
    "                          param_grid=param_grid,\n",
    "                          scoring=scoring,\n",
    "                          cv=cv )\n",
    "                          \n",
    "    grid_model.fit(X_train, Y_train)\n",
    "\n",
    "    params = grid_model.best_params_\n",
    "    #--------------------  \n",
    "    return grid_model, params"
   ]
  },
  {
   "cell_type": "code",
   "execution_count": 42,
   "metadata": {},
   "outputs": [],
   "source": [
    "param_grid = {\"splitter\":[\"best\", \"random\"],\n",
    "              \"max_features\":[\"log2\", 2, 3, 4, 5, 6],\n",
    "              \"max_depth\": [2, 3, 4, 5, 6],\n",
    "              \"min_samples_leaf\": [1, 2, 3],\n",
    "              \"min_samples_split\": [2, 3, 4, 5]}\n",
    "\n",
    "model = DecisionTreeClassifier(random_state=42)\n",
    "\n",
    "### Note: Discard the feature with least importance factor and use only the remaining features \n",
    "\n",
    "grid_model, params = best_params(model, param_grid, scoring='f1_macro', cv = 5, X_train=train[features], Y_train = train[\"species\"])"
   ]
  },
  {
   "cell_type": "code",
   "execution_count": 43,
   "metadata": {},
   "outputs": [
    {
     "name": "stdout",
     "output_type": "stream",
     "text": [
      "{'max_depth': 4, 'max_features': 3, 'min_samples_leaf': 1, 'min_samples_split': 2, 'splitter': 'best'}\n"
     ]
    }
   ],
   "source": [
    "print(params)"
   ]
  },
  {
   "cell_type": "code",
   "execution_count": 44,
   "metadata": {},
   "outputs": [],
   "source": [
    "y_pred = predictions(grid_model, test[features])"
   ]
  },
  {
   "cell_type": "code",
   "execution_count": 45,
   "metadata": {},
   "outputs": [],
   "source": [
    "report, conf_matrix = return_class_metrics(y_pred, test[\"species\"])"
   ]
  },
  {
   "cell_type": "code",
   "execution_count": 46,
   "metadata": {},
   "outputs": [
    {
     "name": "stdout",
     "output_type": "stream",
     "text": [
      "              precision    recall  f1-score   support\n",
      "\n",
      "         0.0       1.00      0.97      0.98        33\n",
      "         1.0       0.94      1.00      0.97        15\n",
      "         2.0       1.00      1.00      1.00        21\n",
      "\n",
      "    accuracy                           0.99        69\n",
      "   macro avg       0.98      0.99      0.98        69\n",
      "weighted avg       0.99      0.99      0.99        69\n",
      "\n"
     ]
    }
   ],
   "source": [
    "print(report)"
   ]
  },
  {
   "cell_type": "code",
   "execution_count": 47,
   "metadata": {},
   "outputs": [
    {
     "data": {
      "text/plain": [
       "array([[32,  1,  0],\n",
       "       [ 0, 15,  0],\n",
       "       [ 0,  0, 21]])"
      ]
     },
     "execution_count": 47,
     "metadata": {},
     "output_type": "execute_result"
    }
   ],
   "source": [
    "conf_matrix"
   ]
  },
  {
   "cell_type": "markdown",
   "metadata": {},
   "source": [
    "<hr>\n",
    "\n",
    "# Part 2: Random forests\n",
    "\n",
    "<hr>"
   ]
  },
  {
   "cell_type": "markdown",
   "metadata": {},
   "source": [
    "## Ensemble of decision trees for classification and regression task"
   ]
  },
  {
   "cell_type": "markdown",
   "metadata": {},
   "source": [
    "### Random Forest Classifier\n",
    "\n",
    "To predict the species of penguin"
   ]
  },
  {
   "cell_type": "markdown",
   "metadata": {},
   "source": [
    "# Lets build Random Forest from Decision trees"
   ]
  },
  {
   "cell_type": "code",
   "execution_count": 48,
   "metadata": {},
   "outputs": [],
   "source": [
    "def sampling_with_replacement(data, weights, num_of_samples, seed):\n",
    "    #note: reset the indices of the sample dataframe when returning\n",
    "    sample = None\n",
    "\n",
    "    #Enter your code here\n",
    "    #--------------------   \n",
    "    sample = data.sample(num_of_samples, replace = True, weights = weights, random_state=seed)\n",
    "    sample = sample.reset_index(drop=True)\n",
    "    #--------------------  \n",
    "    return sample"
   ]
  },
  {
   "cell_type": "code",
   "execution_count": 49,
   "metadata": {},
   "outputs": [],
   "source": [
    "def sampling_without_replacement(data, weights, num_of_samples, seed):\n",
    "    #note: reset the indices of the sample dataframe when returning\n",
    "\n",
    "    sample = None\n",
    "    \n",
    "    #Enter your code here\n",
    "    #--------------------   \n",
    "    sample = data.sample(num_of_samples, replace = False, weights = weights, random_state=seed)\n",
    "    sample = sample.reset_index(drop=True)\n",
    "    #--------------------\n",
    "    return sample"
   ]
  },
  {
   "cell_type": "markdown",
   "metadata": {},
   "source": [
    "## using BaggingClassifier"
   ]
  },
  {
   "cell_type": "code",
   "execution_count": 50,
   "metadata": {},
   "outputs": [],
   "source": [
    "from sklearn.ensemble import BaggingClassifier\n",
    "def RF_model_bagging(X_train, y_train, **args):\n",
    "    #Fit model using BaggingClassifier\n",
    "\n",
    "    model = None\n",
    "\n",
    "    #Enter your code here\n",
    "    #----------------------------\n",
    "    model = BaggingClassifier(**args)\n",
    "    model.fit(X_train, y_train)\n",
    "    #----------------------------\n",
    "    return model"
   ]
  },
  {
   "cell_type": "code",
   "execution_count": 51,
   "metadata": {},
   "outputs": [],
   "source": [
    "model = RF_model_bagging(train[features], train[target], base_estimator=DecisionTreeClassifier(), n_estimators=10, random_state= 42 )"
   ]
  },
  {
   "cell_type": "code",
   "execution_count": 52,
   "metadata": {},
   "outputs": [],
   "source": [
    "if model==None:\n",
    "    print(\"Model is not fitted yet\")\n",
    "else:\n",
    "    y_pred = model.predict(test[features])"
   ]
  },
  {
   "cell_type": "code",
   "execution_count": 53,
   "metadata": {},
   "outputs": [],
   "source": [
    "report, conf_matrix = return_class_metrics(y_pred, test[\"species\"])"
   ]
  },
  {
   "cell_type": "code",
   "execution_count": 54,
   "metadata": {},
   "outputs": [
    {
     "name": "stdout",
     "output_type": "stream",
     "text": [
      "              precision    recall  f1-score   support\n",
      "\n",
      "         0.0       1.00      0.97      0.98        33\n",
      "         1.0       0.94      0.94      0.94        16\n",
      "         2.0       0.95      1.00      0.98        20\n",
      "\n",
      "    accuracy                           0.97        69\n",
      "   macro avg       0.96      0.97      0.97        69\n",
      "weighted avg       0.97      0.97      0.97        69\n",
      "\n"
     ]
    }
   ],
   "source": [
    "print(report)"
   ]
  },
  {
   "cell_type": "code",
   "execution_count": 55,
   "metadata": {},
   "outputs": [
    {
     "data": {
      "text/plain": [
       "array([[32,  1,  0],\n",
       "       [ 0, 15,  1],\n",
       "       [ 0,  0, 20]])"
      ]
     },
     "execution_count": 55,
     "metadata": {},
     "output_type": "execute_result"
    }
   ],
   "source": [
    "conf_matrix"
   ]
  },
  {
   "cell_type": "markdown",
   "metadata": {},
   "source": [
    "### Point to probe: Are we doing better or worse by using the ensemble when compared with just a decision tree classifier model? "
   ]
  },
  {
   "cell_type": "markdown",
   "metadata": {},
   "source": [
    "## From scratch using decision trees"
   ]
  },
  {
   "cell_type": "code",
   "execution_count": 56,
   "metadata": {},
   "outputs": [],
   "source": [
    "def random_forest(sampling, dataset , num_trees=5, seed = [1,2,3,4,5], max_depth = 5):\n",
    "    #return a list of fitted decision tree models\n",
    "    #use random_state during sampling and fitting the models as a list of array passed as seed\n",
    "\n",
    "    model_list = []\n",
    "\n",
    "    #Enter your code here\n",
    "    #--------------------   \n",
    "    if sampling == \"with_replacement\":\n",
    "        sampling = sampling_with_replacement\n",
    "    else: \n",
    "        sampling = sampling_without_replacement\n",
    "\n",
    "    for num in range(1,num_trees+1):        \n",
    "        sample = sampling(data=dataset, weights=None, num_of_samples=len(dataset), seed=seed[num-1])\n",
    "        #sample = sampling(data=dataset, weights=None, num_of_samples=len(dataset), seed=42)\n",
    "        X_train = sample.iloc[:,1:7]\n",
    "        y_train = sample.iloc[:,0]\n",
    "        fitted_model = DecisionTreeClassifier(random_state = seed[num-1], max_depth=max_depth)\n",
    "        fitted_model.fit(X_train, y_train)\n",
    "        model_list.append(fitted_model)\n",
    "    #-------------------- \n",
    "\n",
    "    return model_list"
   ]
  },
  {
   "cell_type": "code",
   "execution_count": 57,
   "metadata": {},
   "outputs": [],
   "source": [
    "def make_prediction_RF(X_test, model_list):\n",
    "    #return the predictions as hard vote from the fitted decision tree models\n",
    "    \n",
    "    prediction = []\n",
    "\n",
    "    #Enter your code here\n",
    "    #--------------------  \n",
    "    from statistics import mode\n",
    "    pred = [model_list[i].predict(X_test) for i in range(0,len(model_list))]\n",
    "    pred = np.array(pred).T\n",
    "    for i in range(0,pred.shape[0]):\n",
    "        prediction.append(mode(pred[i,:]))\n",
    "    #--------------------  \n",
    "    return prediction"
   ]
  },
  {
   "cell_type": "code",
   "execution_count": 58,
   "metadata": {},
   "outputs": [],
   "source": [
    "num_trees = 10\n",
    "seed = np.arange(1,num_trees+1,1)\n",
    "model_list =  random_forest(sampling=\"with_replacement\", dataset=train, num_trees=num_trees, seed = seed, max_depth=None)\n",
    "y_pred = make_prediction_RF(test[features], model_list)\n",
    "report, conf_matrix = return_class_metrics(y_pred, test[\"species\"])"
   ]
  },
  {
   "cell_type": "code",
   "execution_count": 59,
   "metadata": {},
   "outputs": [
    {
     "name": "stdout",
     "output_type": "stream",
     "text": [
      "              precision    recall  f1-score   support\n",
      "\n",
      "         0.0       0.97      1.00      0.98        31\n",
      "         1.0       1.00      0.89      0.94        18\n",
      "         2.0       0.95      1.00      0.98        20\n",
      "\n",
      "    accuracy                           0.97        69\n",
      "   macro avg       0.97      0.96      0.97        69\n",
      "weighted avg       0.97      0.97      0.97        69\n",
      "\n"
     ]
    }
   ],
   "source": [
    "print(report)"
   ]
  },
  {
   "cell_type": "code",
   "execution_count": 60,
   "metadata": {},
   "outputs": [
    {
     "data": {
      "text/plain": [
       "array([[31,  0,  0],\n",
       "       [ 1, 16,  1],\n",
       "       [ 0,  0, 20]])"
      ]
     },
     "execution_count": 60,
     "metadata": {},
     "output_type": "execute_result"
    }
   ],
   "source": [
    "conf_matrix"
   ]
  },
  {
   "cell_type": "markdown",
   "metadata": {},
   "source": [
    "# Random Forest using sklearn"
   ]
  },
  {
   "cell_type": "code",
   "execution_count": 61,
   "metadata": {},
   "outputs": [],
   "source": [
    "def fit_random_forest_classifier(X_train, Y_train, **args):\n",
    "    #Fit and return the random forest model (use sklearn)\n",
    "\n",
    "    model = None\n",
    "\n",
    "    #Enter your code here\n",
    "    #--------------------\n",
    "    model = RandomForestClassifier(**args)\n",
    "    model.fit(X_train,Y_train)\n",
    "    #--------------------\n",
    "    return model"
   ]
  },
  {
   "cell_type": "code",
   "execution_count": 62,
   "metadata": {},
   "outputs": [],
   "source": [
    "target_classification = train[\"species\"]\n",
    "model_RF_class = fit_random_forest_classifier(train[features], target_classification, random_state = 42, n_estimators=5)"
   ]
  },
  {
   "cell_type": "code",
   "execution_count": 63,
   "metadata": {},
   "outputs": [],
   "source": [
    "y_pred = predictions(model_RF_class, test[features])"
   ]
  },
  {
   "cell_type": "code",
   "execution_count": 64,
   "metadata": {},
   "outputs": [],
   "source": [
    "report, conf_matrix = return_class_metrics(y_pred, test[\"species\"])"
   ]
  },
  {
   "cell_type": "code",
   "execution_count": 65,
   "metadata": {},
   "outputs": [
    {
     "name": "stdout",
     "output_type": "stream",
     "text": [
      "              precision    recall  f1-score   support\n",
      "\n",
      "         0.0       1.00      1.00      1.00        32\n",
      "         1.0       1.00      1.00      1.00        16\n",
      "         2.0       1.00      1.00      1.00        21\n",
      "\n",
      "    accuracy                           1.00        69\n",
      "   macro avg       1.00      1.00      1.00        69\n",
      "weighted avg       1.00      1.00      1.00        69\n",
      "\n"
     ]
    }
   ],
   "source": [
    "print(report)"
   ]
  },
  {
   "cell_type": "code",
   "execution_count": 66,
   "metadata": {},
   "outputs": [
    {
     "data": {
      "text/plain": [
       "array([[32,  0,  0],\n",
       "       [ 0, 16,  0],\n",
       "       [ 0,  0, 21]])"
      ]
     },
     "execution_count": 66,
     "metadata": {},
     "output_type": "execute_result"
    }
   ],
   "source": [
    "conf_matrix"
   ]
  },
  {
   "cell_type": "code",
   "execution_count": 67,
   "metadata": {},
   "outputs": [
    {
     "data": {
      "image/png": "[encoded data removed]",
      "text/plain": [
       "<Figure size 360x360 with 1 Axes>"
      ]
     },
     "metadata": {
      "needs_background": "light"
     },
     "output_type": "display_data"
    }
   ],
   "source": [
    "if model_RF_class == None:\n",
    "    print(\"Model not fitted yet\")\n",
    "\n",
    "\n",
    "else:\n",
    "    plt.figure(figsize=(5,5))\n",
    "\n",
    "    scatter_kwargs = {'s': 100, 'edgecolor': None, 'alpha': 0.7}\n",
    "    contourf_kwargs = {'alpha': 0.2}\n",
    "    scatter_highlight_kwargs = {'s': 50, 'label': 'Test data', 'alpha': 0.7}\n",
    "                                    \n",
    "    fig = plot_decision_regions(X=train[[\"island\",\"culmen_length_mm\",\"culmen_depth_mm\",\"flipper_length_mm\",\"body_mass_g\",\"sex\"]].values, y = train[\"species\"].astype(int).values, \n",
    "                                    feature_index=[0,1], \n",
    "                                    filler_feature_values={2: 17, 3:180, 4:3000, 5:1},\n",
    "                                    filler_feature_ranges={2: 10, 3:50, 4:1000, 5:2}, clf=model_RF_class,\n",
    "                                    scatter_kwargs=scatter_kwargs,\n",
    "                                    contourf_kwargs=contourf_kwargs,\n",
    "                                    scatter_highlight_kwargs=scatter_highlight_kwargs,\n",
    "                                    X_highlight=test[[\"island\",\"culmen_length_mm\",\"culmen_depth_mm\",\"flipper_length_mm\",\"body_mass_g\",\"sex\"]].values)\n",
    "\n",
    "    plt.xlabel(\"island\")\n",
    "    plt.ylabel(\"culmen_length_mm\")\n",
    "    plt.title(\"Random Forest Model\")\n",
    "    plt.show()"
   ]
  },
  {
   "cell_type": "markdown",
   "metadata": {},
   "source": [
    "## Plot ROC curve for the decision tree and random forest classsifier models"
   ]
  },
  {
   "cell_type": "code",
   "execution_count": 68,
   "metadata": {},
   "outputs": [],
   "source": [
    "def plot_auc_roc(model_DT_class, model_RF_class, X_test, y_test):\n",
    "    #Plot ROC for both decision tree and random forest classifier models\n",
    "\n",
    "    #plot separately for both decision tree and random forest models, also plot all three classes\n",
    "\n",
    "    for model in [model_DT_class, model_RF_class]:\n",
    "        probs = model.predict_proba(test[[\"island\",\"culmen_length_mm\",\"culmen_depth_mm\",\"flipper_length_mm\",\"body_mass_g\",\"sex\"]])\n",
    "        fpr = dict()\n",
    "        tpr = dict()\n",
    "        roc_auc = dict()\n",
    "        lw = 2\n",
    "\n",
    "        y = label_binarize(test[\"species\"], classes=[0, 1, 2])\n",
    "        n_classes = y.shape[1]\n",
    "\n",
    "        for i in range(n_classes):\n",
    "            fpr[i], tpr[i], _ = roc_curve(y[:,i], probs[:,i])\n",
    "            roc_auc[i] = auc(fpr[i], tpr[i])\n",
    "\n",
    "        colors = cycle([\"blue\", \"red\", \"green\"])\n",
    "        for i, color in zip(range(n_classes), colors):\n",
    "            plt.plot(\n",
    "                fpr[i],\n",
    "                tpr[i],\n",
    "                color=color,\n",
    "                lw=lw,\n",
    "                label=\"ROC curve of class {0} (area = {1:0.2f})\".format(i, roc_auc[i]),\n",
    "            )\n",
    "\n",
    "        plt.plot([0, 1], [0, 1], \"k--\", lw=lw)\n",
    "        plt.xlim([0.0, 1.0])\n",
    "        plt.ylim([0.0, 1.05])\n",
    "        plt.xlabel(\"False Positive Rate\")\n",
    "        plt.ylabel(\"True Positive Rate\")\n",
    "        plt.title(\"ROC plot: \" + str(model))\n",
    "        plt.legend(loc=\"lower right\")\n",
    "        plt.show()\n",
    "    return"
   ]
  },
  {
   "cell_type": "code",
   "execution_count": 69,
   "metadata": {},
   "outputs": [
    {
     "data": {
      "image/png": "[encoded data removed]",
      "text/plain": [
       "<Figure size 432x288 with 1 Axes>"
      ]
     },
     "metadata": {
      "needs_background": "light"
     },
     "output_type": "display_data"
    },
    {
     "data": {
      "image/png": "[encoded data removed]",
      "text/plain": [
       "<Figure size 432x288 with 1 Axes>"
      ]
     },
     "metadata": {
      "needs_background": "light"
     },
     "output_type": "display_data"
    }
   ],
   "source": [
    "plot_auc_roc(model_DT_class, model_RF_class, test[features], test[target])"
   ]
  },
  {
   "cell_type": "markdown",
   "metadata": {},
   "source": [
    "<hr>\n",
    "\n",
    "# Part 3: Boosting\n",
    "\n",
    "<hr>"
   ]
  },
  {
   "cell_type": "markdown",
   "metadata": {},
   "source": [
    "# Adaboost"
   ]
  },
  {
   "cell_type": "markdown",
   "metadata": {},
   "source": [
    "# From scratch using Decision trees for a binary classification problem"
   ]
  },
  {
   "cell_type": "markdown",
   "metadata": {},
   "source": [
    "![AdaBoost](images/adaboost_algo.png \"Algorithm\")"
   ]
  },
  {
   "cell_type": "code",
   "execution_count": 70,
   "metadata": {},
   "outputs": [],
   "source": [
    "#considering only two classes\n",
    "try:\n",
    "    dataset = penguin_data_imp_simple[(penguin_data_imp_simple['species'] == 0) | (penguin_data_imp_simple['species'] == 1)]\n",
    "    dataset['species'] = dataset['species'].replace(0, -1)  #replacing class label 0 by -1\n",
    "    train_binary, test_binary = train_test_split (dataset, test_size = 0.3)\n",
    "\n",
    "except:\n",
    "    print(\"Perform imputation and then proceed\")"
   ]
  },
  {
   "cell_type": "code",
   "execution_count": 71,
   "metadata": {},
   "outputs": [],
   "source": [
    "def adaboost_one_iter(dataframe, X_train, y_train, iteration_number):\n",
    "\n",
    "    #fitting the DT model with depth one\n",
    "    clf_gini = DecisionTreeClassifier(criterion = \"gini\", random_state = 42, max_depth=1)\n",
    "    clf_gini.fit(X_train, y_train, sample_weight=dataframe['probR' + str(iteration_number)].values)  \n",
    "\n",
    "    #tree.plot_tree(clf_gini)  \n",
    "    #plt.show()\n",
    "\n",
    "    y_pred = clf_gini.predict(X_train)\n",
    "\n",
    "    dataframe['pred' + str(iteration_number)] = y_pred\n",
    "\n",
    "    dataframe.loc[dataframe.species != dataframe['pred' + str(iteration_number)], 'misclassified'] = 1\n",
    "    dataframe.loc[dataframe.species == dataframe['pred' + str(iteration_number)], 'misclassified'] = 0\n",
    "\n",
    "    e = sum(dataframe['misclassified'] * dataframe['probR' + str(iteration_number)])\n",
    "\n",
    "    try:\n",
    "        alpha = 0.5*log((1-e)/e)\n",
    "\n",
    "    except:     #if error is zero, an exception is thrown\n",
    "        return dataframe, clf_gini, 1, \"Terminate\"\n",
    "\n",
    "    new_weight = dataframe['probR' + str(iteration_number)]*np.exp(-1*alpha*dataframe['species']*dataframe['pred' + str(iteration_number)])\n",
    "    normalized_weight = new_weight/sum(new_weight)\n",
    "\n",
    "    dataframe['probR' + str(iteration_number + 1)] = round(normalized_weight,8)\n",
    "\n",
    "    return dataframe, clf_gini, alpha, \"Continue\""
   ]
  },
  {
   "cell_type": "code",
   "execution_count": 72,
   "metadata": {},
   "outputs": [],
   "source": [
    "def ada_boost_algo(sampling=\"without_replacement\", dataset= penguin_data, num_iter=10):\n",
    "\n",
    "    model_list = []\n",
    "    model_weight = []\n",
    "\n",
    "    #Enter your code here\n",
    "    #-------------------------\n",
    "    if sampling == \"with_replacement\":\n",
    "        sampling = sampling_with_replacement\n",
    "    else: \n",
    "        sampling = sampling_without_replacement\n",
    "\n",
    "    #Initially assign same weights to each records in the dataset\n",
    "    dataset['probR1'] = 1/(dataset.shape[0])\n",
    "\n",
    "    for num in range(1,num_iter+1):\n",
    "\n",
    "        #print(\"Iteration: \", num)\n",
    "        \n",
    "        dataset = sampling(data=dataset, weights=dataset['probR' + str(num)], num_of_samples=len(dataset), seed=None)\n",
    "        \n",
    "        #X_train and Y_train split\n",
    "        X_train = dataset[[\"island\",\"culmen_length_mm\",\"culmen_depth_mm\",\"flipper_length_mm\",\"body_mass_g\",\"sex\"]]  \n",
    "        y_train = dataset[\"species\"]\n",
    "        dataset, fitted_model, alpha, termination = adaboost_one_iter(dataset, X_train, y_train, num)\n",
    "        model_list.append(fitted_model)\n",
    "        model_weight.append(alpha)\n",
    "        \n",
    "        if termination == \"Terminate\":\n",
    "            print(\"Terminated at iteration: \", num)\n",
    "            break\n",
    "    #-------------------------\n",
    "    return model_list, model_weight"
   ]
  },
  {
   "cell_type": "code",
   "execution_count": 73,
   "metadata": {},
   "outputs": [],
   "source": [
    "try:\n",
    "    model_list, model_weight = ada_boost_algo(sampling=\"without_replacement\", dataset=train_binary, num_iter=5)\n",
    "except:\n",
    "    print(\"Oops....Something went wrong\")"
   ]
  },
  {
   "cell_type": "code",
   "execution_count": 74,
   "metadata": {},
   "outputs": [],
   "source": [
    "def make_prediction(X_test, model_list, model_weight):\n",
    "    # Make predictions using the fitted model and model weights. Use hard voting.\n",
    "\n",
    "    #Enter your code here\n",
    "    #-------------------------\n",
    "    prediction = 0\n",
    "    pred = [model_weight[i]*model_list[i].predict(X_test) for i in range(0,len(model_list))]\n",
    "    for i in range(0,len(pred)):\n",
    "        prediction += pred[i]\n",
    "    #-------------------------        \n",
    "    return np.sign(prediction)"
   ]
  },
  {
   "cell_type": "code",
   "execution_count": 75,
   "metadata": {},
   "outputs": [
    {
     "name": "stdout",
     "output_type": "stream",
     "text": [
      "              precision    recall  f1-score   support\n",
      "\n",
      "        -1.0       0.93      0.95      0.94        44\n",
      "         1.0       0.90      0.86      0.88        22\n",
      "\n",
      "    accuracy                           0.92        66\n",
      "   macro avg       0.92      0.91      0.91        66\n",
      "weighted avg       0.92      0.92      0.92        66\n",
      "\n",
      "[[42  2]\n",
      " [ 3 19]]\n"
     ]
    }
   ],
   "source": [
    "try:\n",
    "    y_pred = make_prediction(test_binary[features] , model_list, model_weight)\n",
    "    print(classification_report(test_binary[target] , y_pred))\n",
    "    print(confusion_matrix(test_binary[target] , y_pred))\n",
    "except:\n",
    "    print(\"Oops....Something went wrong\")"
   ]
  },
  {
   "cell_type": "markdown",
   "metadata": {},
   "source": [
    "# Using sklearn"
   ]
  },
  {
   "cell_type": "code",
   "execution_count": 76,
   "metadata": {},
   "outputs": [],
   "source": [
    "from sklearn.ensemble import AdaBoostClassifier"
   ]
  },
  {
   "cell_type": "code",
   "execution_count": 77,
   "metadata": {},
   "outputs": [
    {
     "name": "stdout",
     "output_type": "stream",
     "text": [
      "              precision    recall  f1-score   support\n",
      "\n",
      "        -1.0       0.93      0.95      0.94        44\n",
      "         1.0       0.90      0.86      0.88        22\n",
      "\n",
      "    accuracy                           0.92        66\n",
      "   macro avg       0.92      0.91      0.91        66\n",
      "weighted avg       0.92      0.92      0.92        66\n",
      "\n",
      "[[42  2]\n",
      " [ 3 19]]\n"
     ]
    }
   ],
   "source": [
    "model = AdaBoostClassifier(random_state=42, algorithm=\"SAMME\", n_estimators=5)\n",
    "model.fit(train_binary[features], train_binary[target])\n",
    "predictions = model.predict(test_binary[features])\n",
    "report, conf_matrix = return_class_metrics(test_binary[target], predictions)\n",
    "print(report)\n",
    "print(conf_matrix)"
   ]
  },
  {
   "cell_type": "markdown",
   "metadata": {},
   "source": [
    "# Gradient Boosting"
   ]
  },
  {
   "cell_type": "code",
   "execution_count": 78,
   "metadata": {},
   "outputs": [],
   "source": [
    "from sklearn.ensemble import GradientBoostingRegressor\n",
    "from sklearn.metrics import mean_squared_error, mean_absolute_error"
   ]
  },
  {
   "cell_type": "code",
   "execution_count": 79,
   "metadata": {},
   "outputs": [
    {
     "name": "stdout",
     "output_type": "stream",
     "text": [
      "109239.40440174981\n",
      "265.8571937177407\n"
     ]
    }
   ],
   "source": [
    "try:\n",
    "    model = GradientBoostingRegressor(random_state=42)\n",
    "    model.fit(train[[\"island\",\"culmen_length_mm\",\"culmen_depth_mm\",\"flipper_length_mm\",\"species\",\"sex\"]], train[\"body_mass_g\"])\n",
    "    predictions = model.predict(test[[\"island\",\"culmen_length_mm\",\"culmen_depth_mm\",\"flipper_length_mm\",\"species\",\"sex\"]])\n",
    "    print(mean_squared_error(predictions, test[\"body_mass_g\"]))\n",
    "    print(mean_absolute_error(predictions, test[\"body_mass_g\"]))\n",
    "except:\n",
    "    print(\"Oops...Something went wrong\")"
   ]
  },
  {
   "cell_type": "markdown",
   "metadata": {},
   "source": [
    "# Regularization"
   ]
  },
  {
   "cell_type": "code",
   "execution_count": 80,
   "metadata": {},
   "outputs": [],
   "source": [
    "param_list = [{\"learning_rate\": 0.05, \"subsample\": 0.25, \"max_depth\":2}, \n",
    "            {\"learning_rate\": 0.05, \"subsample\": 0.25, \"max_depth\":8}, \n",
    "            {\"learning_rate\": 0.1, \"subsample\": 0.25, \"max_depth\":10},\n",
    "            {\"learning_rate\": 0.5, \"subsample\": 0.75, \"max_depth\":10}]\n",
    "\n",
    "\n",
    "def plot_squared_error_stagewise(param_list):\n",
    "    #Plotting the stagewise loss for gradient boosting regressor model with different parameter values\n",
    "    #Regularization\n",
    "    for i in range(0, len(param_list)):\n",
    "        model = GradientBoostingRegressor(**param_list[i])\n",
    "        model.fit(train[[\"island\",\"culmen_length_mm\",\"culmen_depth_mm\",\"flipper_length_mm\",\"species\",\"sex\"]], train[\"body_mass_g\"])\n",
    "        loss = []\n",
    "        for j, y_pred in enumerate(model.staged_predict(test[[\"island\",\"culmen_length_mm\",\"culmen_depth_mm\",\"flipper_length_mm\",\"species\",\"sex\"]])):\n",
    "            loss.append(model.loss_(test[\"body_mass_g\"], y_pred))\n",
    "\n",
    "        plt.plot(loss, label = str(param_list[i]))\n",
    "\n",
    "    plt.legend(loc=\"upper left\")\n",
    "    plt.xlabel(\"Boosting Iterations\")\n",
    "    plt.ylabel(\"Loss : squared error\")\n",
    "    plt.show()\n",
    "    return"
   ]
  },
  {
   "cell_type": "code",
   "execution_count": 81,
   "metadata": {},
   "outputs": [
    {
     "data": {
      "image/png": "[encoded data removed]",
      "text/plain": [
       "<Figure size 432x288 with 1 Axes>"
      ]
     },
     "metadata": {
      "needs_background": "light"
     },
     "output_type": "display_data"
    }
   ],
   "source": [
    "plot_squared_error_stagewise(param_list)"
   ]
  },
  {
   "cell_type": "markdown",
   "metadata": {},
   "source": [
    "# Hyperparameter tuning using gridsearchCV"
   ]
  },
  {
   "cell_type": "code",
   "execution_count": 82,
   "metadata": {},
   "outputs": [],
   "source": [
    "param_grid = {\"n_estimators\":[10, 30, 50, 100],\n",
    "              \"learning_rate\":[0.01, 0.05, 0.1, 1, 1.5, 2],\n",
    "              \"loss\":[\"squared_error\", \"absolute_error\", \"huber\", \"quantile\"]}\n",
    "\n",
    "model = GradientBoostingRegressor(random_state=42)\n",
    "\n",
    "grid_model, params = best_params(model, param_grid, scoring='neg_mean_squared_error', cv = 10, X_train=train[[\"island\",\"culmen_length_mm\",\"culmen_depth_mm\",\"flipper_length_mm\",\"species\",\"sex\"]], Y_train = train[\"body_mass_g\"])"
   ]
  },
  {
   "cell_type": "code",
   "execution_count": 83,
   "metadata": {},
   "outputs": [
    {
     "name": "stdout",
     "output_type": "stream",
     "text": [
      "{'learning_rate': 0.1, 'loss': 'huber', 'n_estimators': 30}\n"
     ]
    }
   ],
   "source": [
    "print(params)"
   ]
  },
  {
   "cell_type": "code",
   "execution_count": 84,
   "metadata": {},
   "outputs": [],
   "source": [
    "predictions = grid_model.predict(test[[\"island\",\"culmen_length_mm\",\"culmen_depth_mm\",\"flipper_length_mm\",\"species\",\"sex\"]])"
   ]
  },
  {
   "cell_type": "code",
   "execution_count": 85,
   "metadata": {},
   "outputs": [
    {
     "name": "stdout",
     "output_type": "stream",
     "text": [
      "110058.1222125392\n"
     ]
    }
   ],
   "source": [
    "print(mean_squared_error(predictions, test[\"body_mass_g\"]))"
   ]
  },
  {
   "cell_type": "code",
   "execution_count": 86,
   "metadata": {},
   "outputs": [
    {
     "name": "stdout",
     "output_type": "stream",
     "text": [
      "262.15463422274996\n"
     ]
    }
   ],
   "source": [
    "print(mean_absolute_error(predictions, test[\"body_mass_g\"]))"
   ]
  }
 ],
 "metadata": {
  "interpreter": {
   "hash": "b5ccb9f5d6d51dc977b67ba84d74a0a92ec2f4abcfbabc7cff12e70a3ea3948a"
  },
  "kernelspec": {
   "display_name": "Python 3.9.10 64-bit (windows store)",
   "language": "python",
   "name": "python3"
  },
  "language_info": {
   "codemirror_mode": {
    "name": "ipython",
    "version": 3
   },
   "file_extension": ".py",
   "mimetype": "text/x-python",
   "name": "python",
   "nbconvert_exporter": "python",
   "pygments_lexer": "ipython3",
   "version": "3.6.9"
  },
  "orig_nbformat": 4
 },
 "nbformat": 4,
 "nbformat_minor": 2
}
